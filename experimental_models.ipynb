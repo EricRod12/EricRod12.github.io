{
 "cells": [
  {
   "cell_type": "code",
   "execution_count": 1,
   "id": "d045187c-69b2-4963-9663-ceabd965776c",
   "metadata": {
    "scrolled": true,
    "tags": []
   },
   "outputs": [
    {
     "name": "stderr",
     "output_type": "stream",
     "text": [
      "2024-12-09 01:15:54.105033: E external/local_xla/xla/stream_executor/cuda/cuda_fft.cc:477] Unable to register cuFFT factory: Attempting to register factory for plugin cuFFT when one has already been registered\n",
      "WARNING: All log messages before absl::InitializeLog() is called are written to STDERR\n",
      "E0000 00:00:1733724954.123296  135884 cuda_dnn.cc:8310] Unable to register cuDNN factory: Attempting to register factory for plugin cuDNN when one has already been registered\n",
      "E0000 00:00:1733724954.131556  135884 cuda_blas.cc:1418] Unable to register cuBLAS factory: Attempting to register factory for plugin cuBLAS when one has already been registered\n",
      "2024-12-09 01:15:54.153316: I tensorflow/core/platform/cpu_feature_guard.cc:210] This TensorFlow binary is optimized to use available CPU instructions in performance-critical operations.\n",
      "To enable the following instructions: AVX2 FMA, in other operations, rebuild TensorFlow with the appropriate compiler flags.\n"
     ]
    },
    {
     "name": "stdout",
     "output_type": "stream",
     "text": [
      "Defaulting to user installation because normal site-packages is not writeable\n",
      "Requirement already satisfied: tensorflow[and-cuda]==2.18 in /home/uay3yb/.local/lib/python3.11/site-packages (2.18.0)\n",
      "Requirement already satisfied: absl-py>=1.0.0 in /home/uay3yb/.local/lib/python3.11/site-packages (from tensorflow[and-cuda]==2.18) (2.1.0)\n",
      "Requirement already satisfied: astunparse>=1.6.0 in /home/uay3yb/.local/lib/python3.11/site-packages (from tensorflow[and-cuda]==2.18) (1.6.3)\n",
      "Requirement already satisfied: flatbuffers>=24.3.25 in /home/uay3yb/.local/lib/python3.11/site-packages (from tensorflow[and-cuda]==2.18) (24.3.25)\n",
      "Requirement already satisfied: gast!=0.5.0,!=0.5.1,!=0.5.2,>=0.2.1 in /home/uay3yb/.local/lib/python3.11/site-packages (from tensorflow[and-cuda]==2.18) (0.6.0)\n",
      "Requirement already satisfied: google-pasta>=0.1.1 in /home/uay3yb/.local/lib/python3.11/site-packages (from tensorflow[and-cuda]==2.18) (0.2.0)\n",
      "Requirement already satisfied: libclang>=13.0.0 in /home/uay3yb/.local/lib/python3.11/site-packages (from tensorflow[and-cuda]==2.18) (18.1.1)\n",
      "Requirement already satisfied: opt-einsum>=2.3.2 in /home/uay3yb/.local/lib/python3.11/site-packages (from tensorflow[and-cuda]==2.18) (3.3.0)\n",
      "Requirement already satisfied: packaging in /apps/software/standard/core/jupyterlab/3.6.3-py3.11/lib/python3.11/site-packages (from tensorflow[and-cuda]==2.18) (23.1)\n",
      "Requirement already satisfied: protobuf!=4.21.0,!=4.21.1,!=4.21.2,!=4.21.3,!=4.21.4,!=4.21.5,<6.0.0dev,>=3.20.3 in /home/uay3yb/.local/lib/python3.11/site-packages (from tensorflow[and-cuda]==2.18) (4.25.4)\n",
      "Requirement already satisfied: requests<3,>=2.21.0 in /home/uay3yb/.local/lib/python3.11/site-packages (from tensorflow[and-cuda]==2.18) (2.32.3)\n",
      "Requirement already satisfied: setuptools in /apps/software/standard/core/jupyterlab/3.6.3-py3.11/lib/python3.11/site-packages (from tensorflow[and-cuda]==2.18) (68.1.2)\n",
      "Requirement already satisfied: six>=1.12.0 in /apps/software/standard/core/jupyterlab/3.6.3-py3.11/lib/python3.11/site-packages (from tensorflow[and-cuda]==2.18) (1.16.0)\n",
      "Requirement already satisfied: termcolor>=1.1.0 in /home/uay3yb/.local/lib/python3.11/site-packages (from tensorflow[and-cuda]==2.18) (2.4.0)\n",
      "Requirement already satisfied: typing-extensions>=3.6.6 in /home/uay3yb/.local/lib/python3.11/site-packages (from tensorflow[and-cuda]==2.18) (4.11.0)\n",
      "Requirement already satisfied: wrapt>=1.11.0 in /home/uay3yb/.local/lib/python3.11/site-packages (from tensorflow[and-cuda]==2.18) (1.16.0)\n",
      "Requirement already satisfied: grpcio<2.0,>=1.24.3 in /home/uay3yb/.local/lib/python3.11/site-packages (from tensorflow[and-cuda]==2.18) (1.66.1)\n",
      "Requirement already satisfied: tensorboard<2.19,>=2.18 in /home/uay3yb/.local/lib/python3.11/site-packages (from tensorflow[and-cuda]==2.18) (2.18.0)\n",
      "Requirement already satisfied: keras>=3.5.0 in /home/uay3yb/.local/lib/python3.11/site-packages (from tensorflow[and-cuda]==2.18) (3.6.0)\n",
      "Requirement already satisfied: numpy<2.1.0,>=1.26.0 in /home/uay3yb/.local/lib/python3.11/site-packages (from tensorflow[and-cuda]==2.18) (1.26.4)\n",
      "Requirement already satisfied: h5py>=3.11.0 in /home/uay3yb/.local/lib/python3.11/site-packages (from tensorflow[and-cuda]==2.18) (3.11.0)\n",
      "Requirement already satisfied: ml-dtypes<0.5.0,>=0.4.0 in /home/uay3yb/.local/lib/python3.11/site-packages (from tensorflow[and-cuda]==2.18) (0.4.0)\n",
      "Requirement already satisfied: tensorflow-io-gcs-filesystem>=0.23.1 in /home/uay3yb/.local/lib/python3.11/site-packages (from tensorflow[and-cuda]==2.18) (0.37.1)\n",
      "Requirement already satisfied: nvidia-cublas-cu12==12.5.3.2 in /home/uay3yb/.local/lib/python3.11/site-packages (from tensorflow[and-cuda]==2.18) (12.5.3.2)\n",
      "Requirement already satisfied: nvidia-cuda-cupti-cu12==12.5.82 in /home/uay3yb/.local/lib/python3.11/site-packages (from tensorflow[and-cuda]==2.18) (12.5.82)\n",
      "Requirement already satisfied: nvidia-cuda-nvcc-cu12==12.5.82 in /home/uay3yb/.local/lib/python3.11/site-packages (from tensorflow[and-cuda]==2.18) (12.5.82)\n",
      "Requirement already satisfied: nvidia-cuda-nvrtc-cu12==12.5.82 in /home/uay3yb/.local/lib/python3.11/site-packages (from tensorflow[and-cuda]==2.18) (12.5.82)\n",
      "Requirement already satisfied: nvidia-cuda-runtime-cu12==12.5.82 in /home/uay3yb/.local/lib/python3.11/site-packages (from tensorflow[and-cuda]==2.18) (12.5.82)\n",
      "Requirement already satisfied: nvidia-cudnn-cu12==9.3.0.75 in /home/uay3yb/.local/lib/python3.11/site-packages (from tensorflow[and-cuda]==2.18) (9.3.0.75)\n",
      "Requirement already satisfied: nvidia-cufft-cu12==11.2.3.61 in /home/uay3yb/.local/lib/python3.11/site-packages (from tensorflow[and-cuda]==2.18) (11.2.3.61)\n",
      "Requirement already satisfied: nvidia-curand-cu12==10.3.6.82 in /home/uay3yb/.local/lib/python3.11/site-packages (from tensorflow[and-cuda]==2.18) (10.3.6.82)\n",
      "Requirement already satisfied: nvidia-cusolver-cu12==11.6.3.83 in /home/uay3yb/.local/lib/python3.11/site-packages (from tensorflow[and-cuda]==2.18) (11.6.3.83)\n",
      "Requirement already satisfied: nvidia-cusparse-cu12==12.5.1.3 in /home/uay3yb/.local/lib/python3.11/site-packages (from tensorflow[and-cuda]==2.18) (12.5.1.3)\n",
      "Requirement already satisfied: nvidia-nccl-cu12==2.21.5 in /home/uay3yb/.local/lib/python3.11/site-packages (from tensorflow[and-cuda]==2.18) (2.21.5)\n",
      "Requirement already satisfied: nvidia-nvjitlink-cu12==12.5.82 in /home/uay3yb/.local/lib/python3.11/site-packages (from tensorflow[and-cuda]==2.18) (12.5.82)\n",
      "Requirement already satisfied: wheel<1.0,>=0.23.0 in /apps/software/standard/core/jupyterlab/3.6.3-py3.11/lib/python3.11/site-packages (from astunparse>=1.6.0->tensorflow[and-cuda]==2.18) (0.41.2)\n",
      "Requirement already satisfied: rich in /home/uay3yb/.local/lib/python3.11/site-packages (from keras>=3.5.0->tensorflow[and-cuda]==2.18) (13.8.1)\n",
      "Requirement already satisfied: namex in /home/uay3yb/.local/lib/python3.11/site-packages (from keras>=3.5.0->tensorflow[and-cuda]==2.18) (0.0.8)\n",
      "Requirement already satisfied: optree in /home/uay3yb/.local/lib/python3.11/site-packages (from keras>=3.5.0->tensorflow[and-cuda]==2.18) (0.12.1)\n",
      "Requirement already satisfied: charset-normalizer<4,>=2 in /apps/software/standard/core/jupyterlab/3.6.3-py3.11/lib/python3.11/site-packages (from requests<3,>=2.21.0->tensorflow[and-cuda]==2.18) (3.2.0)\n",
      "Requirement already satisfied: idna<4,>=2.5 in /apps/software/standard/core/jupyterlab/3.6.3-py3.11/lib/python3.11/site-packages (from requests<3,>=2.21.0->tensorflow[and-cuda]==2.18) (3.4)\n",
      "Requirement already satisfied: urllib3<3,>=1.21.1 in /apps/software/standard/core/jupyterlab/3.6.3-py3.11/lib/python3.11/site-packages (from requests<3,>=2.21.0->tensorflow[and-cuda]==2.18) (2.0.4)\n",
      "Requirement already satisfied: certifi>=2017.4.17 in /apps/software/standard/core/jupyterlab/3.6.3-py3.11/lib/python3.11/site-packages (from requests<3,>=2.21.0->tensorflow[and-cuda]==2.18) (2023.7.22)\n",
      "Requirement already satisfied: markdown>=2.6.8 in /home/uay3yb/.local/lib/python3.11/site-packages (from tensorboard<2.19,>=2.18->tensorflow[and-cuda]==2.18) (3.7)\n",
      "Requirement already satisfied: tensorboard-data-server<0.8.0,>=0.7.0 in /home/uay3yb/.local/lib/python3.11/site-packages (from tensorboard<2.19,>=2.18->tensorflow[and-cuda]==2.18) (0.7.2)\n",
      "Requirement already satisfied: werkzeug>=1.0.1 in /home/uay3yb/.local/lib/python3.11/site-packages (from tensorboard<2.19,>=2.18->tensorflow[and-cuda]==2.18) (3.1.2)\n",
      "Requirement already satisfied: MarkupSafe>=2.1.1 in /apps/software/standard/core/jupyterlab/3.6.3-py3.11/lib/python3.11/site-packages (from werkzeug>=1.0.1->tensorboard<2.19,>=2.18->tensorflow[and-cuda]==2.18) (2.1.3)\n",
      "Requirement already satisfied: markdown-it-py>=2.2.0 in /home/uay3yb/.local/lib/python3.11/site-packages (from rich->keras>=3.5.0->tensorflow[and-cuda]==2.18) (3.0.0)\n",
      "Requirement already satisfied: pygments<3.0.0,>=2.13.0 in /home/uay3yb/.local/lib/python3.11/site-packages (from rich->keras>=3.5.0->tensorflow[and-cuda]==2.18) (2.18.0)\n",
      "Requirement already satisfied: mdurl~=0.1 in /home/uay3yb/.local/lib/python3.11/site-packages (from markdown-it-py>=2.2.0->rich->keras>=3.5.0->tensorflow[and-cuda]==2.18) (0.1.2)\n"
     ]
    }
   ],
   "source": [
    "#import numpy as np\n",
    "import numpy as np\n",
    "import pandas as pd\n",
    "import tensorflow as tf\n",
    "from sklearn.metrics import confusion_matrix, precision_score, recall_score, classification_report\n",
    "import seaborn as sns\n",
    "import matplotlib.pyplot as plt\n",
    "from tqdm import tqdm\n",
    "from tensorflow.keras.applications import VGG16\n",
    "from tensorflow.keras import layers, models, optimizers\n",
    "from tensorflow.keras.optimizers import Adam\n",
    "from tensorflow.keras.callbacks import ModelCheckpoint, EarlyStopping, ReduceLROnPlateau\n",
    "from collections import Counter\n",
    "import os\n",
    "import zipfile\n",
    "import shutil\n",
    "import gc\n",
    "from tensorflow.keras.preprocessing.image import ImageDataGenerator\n",
    "import logging\n",
    "import random\n",
    "!pip install tensorflow[and-cuda]==2.18 \n"
   ]
  },
  {
   "cell_type": "code",
   "execution_count": 2,
   "id": "6c446ed6-75d0-422e-91c0-c815a106706e",
   "metadata": {
    "tags": []
   },
   "outputs": [],
   "source": [
    "def process_images_with_tf(image_paths, labels, images_mmap_path, labels_mmap_path, batch_size=500):\n",
    "    total_images = len(image_paths)\n",
    "    print(f\"\\nProcessing {total_images} images for memory-mapped storage...\")\n",
    "\n",
    "    # Define image shape and dtype for memory-mapped storage\n",
    "    image_shape = (256, 256, 3)\n",
    "    dtype = 'float32'\n",
    "\n",
    "    # Create memory-mapped arrays for images and labels\n",
    "    images_mmap = np.memmap(images_mmap_path, dtype=dtype, mode='w+', shape=(total_images, *image_shape))\n",
    "    labels_mmap = np.memmap(labels_mmap_path, dtype='int32', mode='w+', shape=(total_images,))\n",
    "\n",
    "    # Create TensorFlow dataset from image paths and labels\n",
    "    dataset = tf.data.Dataset.from_tensor_slices((image_paths, labels))\n",
    "\n",
    "    # Function to load and preprocess images\n",
    "    def _load_and_preprocess_image(file_path, label):\n",
    "        try:\n",
    "            # Read and preprocess image\n",
    "            img = tf.io.read_file(file_path)\n",
    "            img = tf.io.decode_image(img, channels=3, expand_animations=False)\n",
    "            img = tf.image.resize(img, [256, 256])\n",
    "            img = tf.cast(img, tf.float32) / 255.0\n",
    "            return img, label\n",
    "        except Exception as e:\n",
    "            # Log errors and return placeholder image\n",
    "            print(f\"Error processing image {file_path}: {e}\")\n",
    "            img = tf.zeros([256, 256, 3], dtype=tf.float32)\n",
    "            return img, label\n",
    "\n",
    "    # Optimize dataset pipeline\n",
    "    dataset = dataset.map(_load_and_preprocess_image, num_parallel_calls=tf.data.AUTOTUNE)\n",
    "    dataset = dataset.batch(batch_size).prefetch(tf.data.AUTOTUNE)\n",
    "\n",
    "    idx = 0\n",
    "    for batch_imgs, batch_labels in tqdm(dataset, total=(total_images + batch_size - 1) // batch_size, desc=\"Processing Images\"):\n",
    "        try:\n",
    "            # Convert batch to NumPy and write to memory-mapped storage\n",
    "            batch_imgs_np = batch_imgs.numpy()\n",
    "            batch_labels_np = batch_labels.numpy()\n",
    "            batch_size_actual = batch_imgs_np.shape[0]\n",
    "            images_mmap[idx:idx + batch_size_actual] = batch_imgs_np\n",
    "            labels_mmap[idx:idx + batch_size_actual] = batch_labels_np\n",
    "            idx += batch_size_actual\n",
    "\n",
    "            # Flush changes to disk and manage memory\n",
    "            images_mmap.flush()\n",
    "            labels_mmap.flush()\n",
    "        except Exception as e:\n",
    "            print(f\"Error processing batch starting at index {idx}: {e}\")\n",
    "        finally:\n",
    "            gc.collect()  # Ensure memory cleanup\n",
    "\n",
    "    # Cleanup resources\n",
    "    del images_mmap\n",
    "    del labels_mmap\n",
    "    print(f\"Finished processing {total_images} images into {images_mmap_path} and {labels_mmap_path}.\")\n"
   ]
  },
  {
   "cell_type": "code",
   "execution_count": 3,
   "id": "53b679ee-ebeb-4bef-9cd4-1e4d1c9fffac",
   "metadata": {
    "scrolled": true,
    "tags": []
   },
   "outputs": [],
   "source": [
    "# --------------------- Helper Functions ---------------------\n",
    "\n",
    "def is_image_file(filename):\n",
    "    \"\"\"\n",
    "    Check if a file is an image based on its extension.\n",
    "    \n",
    "    Parameters:\n",
    "    - filename (str): Name of the file.\n",
    "    \n",
    "    Returns:\n",
    "    - bool: True if the file is an image, False otherwise.\n",
    "    \"\"\"\n",
    "    return filename.lower().endswith(('.jpg', '.jpeg', '.png'))\n",
    "\n",
    "# --------------------- Main Processing Function ---------------------\n",
    "\n",
    "def main():\n",
    "    \"\"\"\n",
    "    Main function to process images from 'D' and 'P' folders within 'SDNET2018.zip'.\n",
    "    It samples a fraction of images from each subfolder, assigns labels, processes images,\n",
    "    and saves them into separate memory-mapped files.\n",
    "    \"\"\"\n",
    "    zip_path = 'SDNET2018.zip'  # Path to your zip file\n",
    "    batch_size = 500  # Adjust based on available memory\n",
    "\n",
    "    # Define mapping from subfolders to labels\n",
    "    subfolder_label_mapping = {\n",
    "        'SDNET2018/D/UD': 0,  # Uncracked\n",
    "        'SDNET2018/D/CD': 1,  # Cracked\n",
    "        'SDNET2018/P/UP': 0,  # Uncracked\n",
    "        'SDNET2018/P/CP': 1   # Cracked\n",
    "    }\n",
    "\n",
    "    # Extract all filenames from the zip file\n",
    "    print(f\"Opening zip file: {zip_path}\")\n",
    "    with zipfile.ZipFile(zip_path, 'r') as zip_ref:\n",
    "        all_filenames = zip_ref.namelist()\n",
    "\n",
    "    # Helper to filter image filenames from a specific subfolder\n",
    "    def get_image_filenames(subfolder):\n",
    "        prefix = subfolder + '/'\n",
    "        return [f for f in all_filenames if f.startswith(prefix) and is_image_file(f)]\n",
    "\n",
    "    # Initialize dictionaries to hold image paths and labels for D and P\n",
    "    data = {\n",
    "        'D': {'image_paths': [], 'labels': []},\n",
    "        'P': {'image_paths': [], 'labels': []}\n",
    "    }\n",
    "\n",
    "    # Iterate over each subfolder and process images\n",
    "    for subfolder, label in tqdm(subfolder_label_mapping.items(), desc=\"Processing Subfolders\"):\n",
    "        image_filenames = get_image_filenames(subfolder)\n",
    "        total_images = len(image_filenames)\n",
    "\n",
    "        if total_images == 0:\n",
    "            logging.warning(f\"No images found in subfolder '{subfolder}'. Skipping.\")\n",
    "            continue\n",
    "\n",
    "        sample_size = max(1, int(total_images * SAMPLE_FRACTION))  # Ensure at least 1 image is sampled\n",
    "        sampled_filenames = random.sample(image_filenames, sample_size)\n",
    "\n",
    "        print(f\"\\nFound {total_images} images in subfolder '{subfolder}'. Sampling {sample_size} images for label {label}.\")\n",
    "\n",
    "        # Extract images and assign labels\n",
    "        image_paths, labels = extract_images_and_labels(zip_path, sampled_filenames, TEMP_DIR, label)\n",
    "\n",
    "        # Determine main folder (D or P) based on subfolder\n",
    "        main_folder = subfolder.split('/')[1]\n",
    "\n",
    "        # Append to the respective main folder's data\n",
    "        data[main_folder]['image_paths'].extend(image_paths)\n",
    "        data[main_folder]['labels'].extend(labels)\n",
    "\n",
    "    # Process and save D folder data\n",
    "    if data['D']['image_paths']:\n",
    "        print(\"\\nProcessing 'D' folder...\")\n",
    "        process_images_with_tf(\n",
    "            data['D']['image_paths'],\n",
    "            labels=data['D']['labels'],\n",
    "            images_mmap_path=IMAGES_D_MEMMAP_PATH,\n",
    "            labels_mmap_path=LABELS_D_MEMMAP_PATH,\n",
    "            batch_size=batch_size\n",
    "        )\n",
    "        # Save the filenames and labels for D\n",
    "        np.save('filenames_d.npy', data['D']['image_paths'])\n",
    "        np.save('labels_d.npy', data['D']['labels'])\n",
    "    else:\n",
    "        logging.warning(\"\\nNo images found for 'D' folder after sampling.\")\n",
    "\n",
    "    # Process and save P folder data\n",
    "    if data['P']['image_paths']:\n",
    "        print(\"\\nProcessing 'P' folder...\")\n",
    "        process_images_with_tf(\n",
    "            data['P']['image_paths'],\n",
    "            labels=data['P']['labels'],\n",
    "            images_mmap_path=IMAGES_P_MEMMAP_PATH,\n",
    "            labels_mmap_path=LABELS_P_MEMMAP_PATH,\n",
    "            batch_size=batch_size\n",
    "        )\n",
    "        # Save the filenames and labels for P\n",
    "        np.save('filenames_p.npy', data['P']['image_paths'])\n",
    "        np.save('labels_p.npy', data['P']['labels'])\n",
    "    else:\n",
    "        logging.warning(\"\\nNo images found for 'P' folder after sampling.\")\n",
    "\n",
    "    # Clear temporary directory\n",
    "    print(\"\\nCleaning up temporary files...\")\n",
    "    shutil.rmtree(TEMP_DIR, ignore_errors=True)\n",
    "    os.makedirs(TEMP_DIR, exist_ok=True)\n",
    "\n",
    "    # Free up memory\n",
    "    del data\n",
    "    gc.collect()\n",
    "\n",
    "    print(\"\\nProcessing complete. Filenames and labels saved for 'D' and 'P' folders.\")\n"
   ]
  },
  {
   "cell_type": "code",
   "execution_count": 4,
   "id": "262ad4ca-e1af-4792-9a22-7a08ecfc3da5",
   "metadata": {
    "scrolled": true,
    "tags": []
   },
   "outputs": [
    {
     "name": "stderr",
     "output_type": "stream",
     "text": [
      "2024-12-09 01:16:01,634 - INFO - Data loaded successfully.\n"
     ]
    }
   ],
   "source": [
    "import os\n",
    "import numpy as np\n",
    "import logging\n",
    "from sklearn.model_selection import train_test_split\n",
    "\n",
    "# Paths for memory-mapped files after processing images\n",
    "IMAGES_D_MEMMAP_PATH = 'images_d_mmap.npy'\n",
    "LABELS_D_MEMMAP_PATH = 'labels_d.npy'\n",
    "IMAGES_P_MEMMAP_PATH = 'images_p_mmap.npy'\n",
    "LABELS_P_MEMMAP_PATH = 'labels_p.npy'\n",
    "\n",
    "# Setup logging\n",
    "logging.basicConfig(level=logging.INFO, format='%(asctime)s - %(levelname)s - %(message)s')\n",
    "\n",
    "# Ensure that necessary files exist\n",
    "required_files = [IMAGES_D_MEMMAP_PATH, LABELS_D_MEMMAP_PATH, IMAGES_P_MEMMAP_PATH, LABELS_P_MEMMAP_PATH]\n",
    "missing_files = [file for file in required_files if not os.path.exists(file)]\n",
    "if missing_files:\n",
    "    logging.error(f\"Missing required files: {missing_files}. Ensure image extraction and processing were completed.\")\n",
    "    exit()\n",
    "\n",
    "# Load labels\n",
    "labels_d = np.load(LABELS_D_MEMMAP_PATH)\n",
    "labels_p = np.load(LABELS_P_MEMMAP_PATH)\n",
    "\n",
    "# Load images\n",
    "total_images_d = len(labels_d)\n",
    "total_images_p = len(labels_p)\n",
    "\n",
    "images_d = np.memmap(IMAGES_D_MEMMAP_PATH, dtype='float32', mode='r', shape=(total_images_d, 256, 256, 3))\n",
    "images_p = np.memmap(IMAGES_P_MEMMAP_PATH, dtype='float32', mode='r', shape=(total_images_p, 256, 256, 3))\n",
    "\n",
    "# Verify label counts\n",
    "if total_images_d != len(labels_d) or total_images_p != len(labels_p):\n",
    "    logging.error(\"Mismatch in the number of images and labels.\")\n",
    "    exit()\n",
    "\n",
    "logging.info(\"Data loaded successfully.\")\n",
    "\n",
    "# Further operations (splitting data, saving datasets)...\n"
   ]
  },
  {
   "cell_type": "code",
   "execution_count": 5,
   "id": "35b4742d-5d78-44fe-8004-059874d35f5a",
   "metadata": {
    "tags": []
   },
   "outputs": [
    {
     "data": {
      "text/plain": [
       "\"\\n# Load the datasets\\ntrain_images_A = np.load('train_set_A_images.npy')\\ntrain_labels_A = np.load('train_set_A_labels.npy')\\n\\ntrain_images_B = np.load('train_set_B_images.npy')\\ntrain_labels_B = np.load('train_set_B_labels.npy')\\n\\ntrain_images_C = np.load('train_set_C_images.npy')\\ntrain_labels_C = np.load('train_set_C_labels.npy')\\n\\ntest_images_D = np.load('test_set_D_images.npy')\\ntest_labels_D = np.load('test_set_D_labels.npy')\\n\\ntest_images_P = np.load('test_set_P_images.npy')\\ntest_labels_P = np.load('test_set_P_labels.npy')\\n\""
      ]
     },
     "execution_count": 5,
     "metadata": {},
     "output_type": "execute_result"
    }
   ],
   "source": [
    "\n",
    "'''\n",
    "# Load the datasets\n",
    "train_images_A = np.load('train_set_A_images.npy')\n",
    "train_labels_A = np.load('train_set_A_labels.npy')\n",
    "\n",
    "train_images_B = np.load('train_set_B_images.npy')\n",
    "train_labels_B = np.load('train_set_B_labels.npy')\n",
    "\n",
    "train_images_C = np.load('train_set_C_images.npy')\n",
    "train_labels_C = np.load('train_set_C_labels.npy')\n",
    "\n",
    "test_images_D = np.load('test_set_D_images.npy')\n",
    "test_labels_D = np.load('test_set_D_labels.npy')\n",
    "\n",
    "test_images_P = np.load('test_set_P_images.npy')\n",
    "test_labels_P = np.load('test_set_P_labels.npy')\n",
    "'''"
   ]
  },
  {
   "cell_type": "code",
   "execution_count": 6,
   "id": "d9e0fe0e-52e4-4b12-b91b-22c1d906ed7a",
   "metadata": {
    "tags": []
   },
   "outputs": [
    {
     "data": {
      "text/plain": [
       "'\\n# Define function to print class distributions\\ndef print_class_distribution(labels, set_name):\\n    class_counts = Counter(labels)\\n    print(f\"Class distribution for {set_name}: {dict(class_counts)}\")\\n\\n# Print class distributions for each training and test set\\nprint_class_distribution(train_labels_A, \"Train Set A (Large and Diverse)\")\\nprint_class_distribution(train_labels_B, \"Train Set B (Small and Diverse)\")\\nprint_class_distribution(train_labels_C, \"Train Set C (D only)\")\\n\\nprint_class_distribution(test_labels_D, \"Test Set D (D only)\")\\nprint_class_distribution(test_labels_P, \"Test Set P (P only)\")\\n'"
      ]
     },
     "execution_count": 6,
     "metadata": {},
     "output_type": "execute_result"
    }
   ],
   "source": [
    "'''\n",
    "# Define function to print class distributions\n",
    "def print_class_distribution(labels, set_name):\n",
    "    class_counts = Counter(labels)\n",
    "    print(f\"Class distribution for {set_name}: {dict(class_counts)}\")\n",
    "\n",
    "# Print class distributions for each training and test set\n",
    "print_class_distribution(train_labels_A, \"Train Set A (Large and Diverse)\")\n",
    "print_class_distribution(train_labels_B, \"Train Set B (Small and Diverse)\")\n",
    "print_class_distribution(train_labels_C, \"Train Set C (D only)\")\n",
    "\n",
    "print_class_distribution(test_labels_D, \"Test Set D (D only)\")\n",
    "print_class_distribution(test_labels_P, \"Test Set P (P only)\")\n",
    "'''"
   ]
  },
  {
   "cell_type": "code",
   "execution_count": 7,
   "id": "479b648b-3ad5-4214-b3f9-f08c31697361",
   "metadata": {
    "tags": []
   },
   "outputs": [
    {
     "name": "stderr",
     "output_type": "stream",
     "text": [
      "I0000 00:00:1733724962.311713  135884 gpu_device.cc:2022] Created device /job:localhost/replica:0/task:0/device:GPU:0 with 38103 MB memory:  -> device: 0, name: NVIDIA A100-SXM4-40GB, pci bus id: 0000:07:00.0, compute capability: 8.0\n"
     ]
    },
    {
     "name": "stdout",
     "output_type": "stream",
     "text": [
      "Datasets loaded successfully.\n",
      "Data generators created successfully.\n"
     ]
    }
   ],
   "source": [
    "# Import necessary libraries\n",
    "import numpy as np\n",
    "import tensorflow as tf\n",
    "from collections import Counter\n",
    "\n",
    "# Define data augmentation pipeline\n",
    "data_augmentation = tf.keras.Sequential([\n",
    "    tf.keras.layers.RandomFlip(\"horizontal_and_vertical\"),\n",
    "    tf.keras.layers.RandomRotation(0.1),\n",
    "    tf.keras.layers.RandomZoom(0.1)\n",
    "])\n",
    "\n",
    "# Updated data generator function\n",
    "def create_data_generator(images, labels, batch_size=16, shuffle=True, augment=True):\n",
    "    images = images.astype('float32')\n",
    "    labels = labels.astype('int64')\n",
    "\n",
    "    def generator():\n",
    "        indices = np.arange(len(images))\n",
    "        if shuffle:\n",
    "            np.random.shuffle(indices)\n",
    "        for start in range(0, len(images), batch_size):\n",
    "            end = min(start + batch_size, len(images))\n",
    "            batch_indices = indices[start:end]\n",
    "            batch_images = images[batch_indices]\n",
    "            batch_labels = labels[batch_indices]\n",
    "            \n",
    "            if augment:\n",
    "                batch_images = data_augmentation(batch_images)\n",
    "            \n",
    "            yield tf.convert_to_tensor(batch_images, dtype=tf.float32), tf.convert_to_tensor(batch_labels, dtype=tf.int64)\n",
    "\n",
    "    output_signature = (\n",
    "        tf.TensorSpec(shape=(None, 256, 256, 3), dtype=tf.float32),\n",
    "        tf.TensorSpec(shape=(None,), dtype=tf.int64)\n",
    "    )\n",
    "\n",
    "    return tf.data.Dataset.from_generator(generator, output_signature=output_signature)\n",
    "\n",
    "# Load datasets\n",
    "train_images_A = np.load('train_set_A_images.npy')\n",
    "train_labels_A = np.load('train_set_A_labels.npy')\n",
    "\n",
    "train_images_B = np.load('train_set_B_images.npy')\n",
    "train_labels_B = np.load('train_set_B_labels.npy')\n",
    "\n",
    "train_images_C = np.load('train_set_C_images.npy')\n",
    "train_labels_C = np.load('train_set_C_labels.npy')\n",
    "\n",
    "test_images_D = np.load('test_set_D_images.npy')\n",
    "test_labels_D = np.load('test_set_D_labels.npy')\n",
    "\n",
    "test_images_P = np.load('test_set_P_images.npy')\n",
    "test_labels_P = np.load('test_set_P_labels.npy')\n",
    "\n",
    "print(\"Datasets loaded successfully.\")\n",
    "\n",
    "# Create generators for training and testing\n",
    "train_gen_A = create_data_generator(train_images_A, train_labels_A, batch_size=16, shuffle=True, augment=True)\n",
    "train_gen_B = create_data_generator(train_images_B, train_labels_B, batch_size=16, shuffle=True, augment=True)\n",
    "train_gen_C = create_data_generator(train_images_C, train_labels_C, batch_size=16, shuffle=True, augment=True)\n",
    "\n",
    "test_gen_D = create_data_generator(test_images_D, test_labels_D, batch_size=16, shuffle=False, augment=False)\n",
    "test_gen_P = create_data_generator(test_images_P, test_labels_P, batch_size=16, shuffle=False, augment=False)\n",
    "\n",
    "print(\"Data generators created successfully.\")\n"
   ]
  },
  {
   "cell_type": "code",
   "execution_count": 8,
   "id": "feaab6ba-ab63-4ce6-ae9a-50346148e5a5",
   "metadata": {
    "tags": []
   },
   "outputs": [],
   "source": [
    "#from sklearn.utils.class_weight import compute_class_weight\n"
   ]
  },
  {
   "cell_type": "code",
   "execution_count": 9,
   "id": "cc234217-914b-4679-97a0-05a2ae764ac6",
   "metadata": {},
   "outputs": [
    {
     "data": {
      "text/plain": [
       "'def get_class_weights(labels):\\n    class_count = Counter(labels)\\n    total = sum(class_count.values())\\n    class_weights = {label: total / (len(class_count) * count) for label, count in class_count.items()}\\n    return class_weights\\n'"
      ]
     },
     "execution_count": 9,
     "metadata": {},
     "output_type": "execute_result"
    }
   ],
   "source": [
    "'''def get_class_weights(labels):\n",
    "    class_count = Counter(labels)\n",
    "    total = sum(class_count.values())\n",
    "    class_weights = {label: total / (len(class_count) * count) for label, count in class_count.items()}\n",
    "    return class_weights\n",
    "'''"
   ]
  },
  {
   "cell_type": "code",
   "execution_count": 10,
   "id": "30a65bbc-9d95-4dd7-a322-08d9c3f4ad4b",
   "metadata": {},
   "outputs": [
    {
     "data": {
      "text/plain": [
       "'# Data Augmentation Pipeline using Keras Layers\\ndata_augmentation = tf.keras.Sequential([\\n    tf.keras.layers.RandomFlip(\"horizontal_and_vertical\"),\\n    tf.keras.layers.RandomRotation(0.1),\\n    tf.keras.layers.RandomZoom(0.1)\\n])\\n\\n# Updated Data Generator Function\\ndef create_data_generator(images, labels, batch_size=16, shuffle=True, augment=True):\\n    images = images.astype(\\'float32\\')\\n    labels = labels.astype(\\'int64\\')\\n\\n    def generator():\\n        indices = np.arange(len(images))\\n        if shuffle:\\n            np.random.shuffle(indices)\\n        for start in range(0, len(images), batch_size):\\n            end = min(start + batch_size, len(images))\\n            batch_indices = indices[start:end]\\n            batch_images = images[batch_indices]\\n            batch_labels = labels[batch_indices]\\n            \\n            if augment:\\n                batch_images = data_augmentation(batch_images)\\n            \\n            yield tf.convert_to_tensor(batch_images, dtype=tf.float32), tf.convert_to_tensor(batch_labels, dtype=tf.int64)\\n\\n    output_signature = (\\n        tf.TensorSpec(shape=(None, 256, 256, 3), dtype=tf.float32),\\n        tf.TensorSpec(shape=(None,), dtype=tf.int64)\\n    )\\n\\n    return tf.data.Dataset.from_generator(generator, output_signature=output_signature)\\n\\n# Create Generators for Training and Testing\\ntrain_gen_A = create_data_generator(train_images_A, train_labels_A, batch_size=16, shuffle=True, augment=True)\\ntrain_gen_B = create_data_generator(train_images_B, train_labels_B, batch_size=16, shuffle=True, augment=True)\\ntrain_gen_C = create_data_generator(train_images_C, train_labels_C, batch_size=16, shuffle=True, augment=True)\\n# For the test generator, set shuffle=False and augment=False\\ntest_gen_D = create_data_generator(test_images_D, test_labels_D, batch_size=16, shuffle=False, augment=False)\\ntest_gen_P= create_data_generator(test_images_P, test_labels_P, batch_size=16, shuffle=False, augment=False)\\n# Calculate the number of steps for the test generator\\nnum_test_samples = len(test_images_D)\\ntest_steps = np.ceil(num_test_samples / 16).astype(int)'"
      ]
     },
     "execution_count": 10,
     "metadata": {},
     "output_type": "execute_result"
    }
   ],
   "source": [
    "'''# Data Augmentation Pipeline using Keras Layers\n",
    "data_augmentation = tf.keras.Sequential([\n",
    "    tf.keras.layers.RandomFlip(\"horizontal_and_vertical\"),\n",
    "    tf.keras.layers.RandomRotation(0.1),\n",
    "    tf.keras.layers.RandomZoom(0.1)\n",
    "])\n",
    "\n",
    "# Updated Data Generator Function\n",
    "def create_data_generator(images, labels, batch_size=16, shuffle=True, augment=True):\n",
    "    images = images.astype('float32')\n",
    "    labels = labels.astype('int64')\n",
    "\n",
    "    def generator():\n",
    "        indices = np.arange(len(images))\n",
    "        if shuffle:\n",
    "            np.random.shuffle(indices)\n",
    "        for start in range(0, len(images), batch_size):\n",
    "            end = min(start + batch_size, len(images))\n",
    "            batch_indices = indices[start:end]\n",
    "            batch_images = images[batch_indices]\n",
    "            batch_labels = labels[batch_indices]\n",
    "            \n",
    "            if augment:\n",
    "                batch_images = data_augmentation(batch_images)\n",
    "            \n",
    "            yield tf.convert_to_tensor(batch_images, dtype=tf.float32), tf.convert_to_tensor(batch_labels, dtype=tf.int64)\n",
    "\n",
    "    output_signature = (\n",
    "        tf.TensorSpec(shape=(None, 256, 256, 3), dtype=tf.float32),\n",
    "        tf.TensorSpec(shape=(None,), dtype=tf.int64)\n",
    "    )\n",
    "\n",
    "    return tf.data.Dataset.from_generator(generator, output_signature=output_signature)\n",
    "\n",
    "# Create Generators for Training and Testing\n",
    "train_gen_A = create_data_generator(train_images_A, train_labels_A, batch_size=16, shuffle=True, augment=True)\n",
    "train_gen_B = create_data_generator(train_images_B, train_labels_B, batch_size=16, shuffle=True, augment=True)\n",
    "train_gen_C = create_data_generator(train_images_C, train_labels_C, batch_size=16, shuffle=True, augment=True)\n",
    "# For the test generator, set shuffle=False and augment=False\n",
    "test_gen_D = create_data_generator(test_images_D, test_labels_D, batch_size=16, shuffle=False, augment=False)\n",
    "test_gen_P= create_data_generator(test_images_P, test_labels_P, batch_size=16, shuffle=False, augment=False)\n",
    "# Calculate the number of steps for the test generator\n",
    "num_test_samples = len(test_images_D)\n",
    "test_steps = np.ceil(num_test_samples / 16).astype(int)'''"
   ]
  },
  {
   "cell_type": "code",
   "execution_count": null,
   "id": "a6431bdd-ec27-4611-9944-711f9a22aa1f",
   "metadata": {},
   "outputs": [],
   "source": []
  },
  {
   "cell_type": "code",
   "execution_count": 11,
   "id": "24d79c33-7db3-4d47-abac-4253040b883e",
   "metadata": {},
   "outputs": [],
   "source": [
    "from collections import Counter\n",
    "\n",
    "def get_class_weights(labels):\n",
    "    \"\"\"\n",
    "    Calculate class weights to handle class imbalance in datasets.\n",
    "\n",
    "    Parameters:\n",
    "    - labels (np.ndarray): Array of class labels.\n",
    "\n",
    "    Returns:\n",
    "    - dict: Dictionary of class weights {class: weight}.\n",
    "    \"\"\"\n",
    "    class_count = Counter(labels)\n",
    "    total = sum(class_count.values())\n",
    "    class_weights = {label: total / (len(class_count) * count) for label, count in class_count.items()}\n",
    "    return class_weights\n"
   ]
  },
  {
   "cell_type": "code",
   "execution_count": 12,
   "id": "0c169de0-5257-47bb-97c3-7fdd4a8bacf0",
   "metadata": {},
   "outputs": [
    {
     "name": "stdout",
     "output_type": "stream",
     "text": [
      "Original class weights: {0: 0.5580400690327906, 1: 4.807369101486748}\n",
      "Adjusted class weights: {0: 0.5580400690327906, 1: 2.403684550743374}\n"
     ]
    }
   ],
   "source": [
    "\n",
    "'''\n",
    "class_weights = get_class_weights(train_labels_A)\n",
    "class_weights\n",
    "adjustment_factor = 0.5  # Adjust this factor between 0 and 1\n",
    "class_weights[1] = class_weights[1] * adjustment_factor\n",
    "print(\"Adjusted class weights:\", class_weights)'''\n",
    "\n",
    "# Assuming train_labels_A is already loaded\n",
    "train_labels_A = np.load('train_set_A_labels.npy')\n",
    "\n",
    "# Calculate initial class weights\n",
    "class_weights = get_class_weights(train_labels_A)\n",
    "print(\"Original class weights:\", class_weights)\n",
    "\n",
    "# Adjust class weights for specific classes\n",
    "adjustment_factor = 0.5  # Adjust this factor between 0 and 1\n",
    "if 1 in class_weights:  # Ensure the class exists in the labels\n",
    "    class_weights[1] = class_weights[1] * adjustment_factor\n",
    "\n",
    "print(\"Adjusted class weights:\", class_weights)\n"
   ]
  },
  {
   "cell_type": "code",
   "execution_count": 13,
   "id": "65fd4f49-46ca-4ac4-a6b2-b2d25f04d98e",
   "metadata": {},
   "outputs": [],
   "source": [
    "# For training sets\n",
    "num_train_samples_A = len(train_labels_A)\n",
    "num_train_samples_B = len(train_labels_B)\n",
    "num_train_samples_C = len(train_labels_C)\n",
    "\n",
    "# For test sets\n",
    "num_test_samples_D = len(test_labels_D)\n",
    "num_test_samples_P = len(test_labels_P)\n",
    "\n",
    "\n",
    "batch_size=16\n",
    "\n",
    "steps_per_epoch_A = np.ceil(num_train_samples_A / batch_size).astype(int)\n",
    "steps_per_epoch_B = np.ceil(num_train_samples_B / batch_size).astype(int)\n",
    "steps_per_epoch_C = np.ceil(num_train_samples_C / batch_size).astype(int)\n",
    "\n",
    "validation_steps_D = np.ceil(num_test_samples_D / batch_size).astype(int)\n",
    "validation_steps_P = np.ceil(num_test_samples_P / batch_size).astype(int)\n"
   ]
  },
  {
   "cell_type": "code",
   "execution_count": 14,
   "id": "f7b702c3-10e8-4bd0-9e47-cd966f1f5957",
   "metadata": {},
   "outputs": [],
   "source": [
    "from tensorflow.keras import backend as K\n",
    "\n",
    "def focal_loss(alpha=1, gamma=0):\n",
    "    def focal_loss_fixed(y_true, y_pred):\n",
    "        # Clip predictions to prevent log(0)\n",
    "        epsilon = K.epsilon()\n",
    "        y_pred = K.clip(y_pred, epsilon, 1. - epsilon)\n",
    "\n",
    "        # Compute cross-entropy loss\n",
    "        ce_loss = - (y_true * K.log(y_pred) + (1 - y_true) * K.log(1 - y_pred))\n",
    "\n",
    "        # Compute the focal loss scaling factor\n",
    "        p_t = tf.where(tf.equal(y_true, 1), y_pred, 1 - y_pred)\n",
    "        focal_factor = K.pow(1 - p_t, gamma)\n",
    "\n",
    "        # Compute the focal loss\n",
    "        focal_loss = alpha * focal_factor * ce_loss\n",
    "\n",
    "        # Return the mean loss over the batch\n",
    "        return K.mean(focal_loss)\n",
    "    focal_loss_fixed.__name__ = 'focal_loss_fixed'  # Important to set the name\n",
    "    return focal_loss_fixed"
   ]
  },
  {
   "cell_type": "code",
   "execution_count": 15,
   "id": "f7bcac47-627e-4ea6-9345-0974b706a71c",
   "metadata": {},
   "outputs": [],
   "source": [
    "from tensorflow.keras.applications import ResNet50\n"
   ]
  },
  {
   "cell_type": "code",
   "execution_count": 19,
   "id": "91040321-98e5-43bf-a90a-4fadd271bef7",
   "metadata": {},
   "outputs": [],
   "source": [
    "'''def train_and_evaluate(\n",
    "    train_gen,\n",
    "    test_gen,\n",
    "    train_labels,\n",
    "    test_labels,\n",
    "    set_name,\n",
    "    batch_size=16,\n",
    "    alpha=1,\n",
    "    gamma=0\n",
    "):\n",
    "    # Load VGG16 pre-trained model\n",
    "    base_model = VGG16(weights='imagenet', include_top=False, input_shape=(256, 256, 3))\n",
    "    base_model.trainable = False\n",
    "\n",
    "    # Build transfer learning model\n",
    "    model_transfer = models.Sequential([\n",
    "        base_model,\n",
    "        layers.Flatten(),\n",
    "        layers.Dense(128, activation='relu'),\n",
    "        layers.Dropout(0.5),\n",
    "        layers.Dense(1, activation='sigmoid')\n",
    "    ])\n",
    "\n",
    "    # Compile the Model with Custom Focal Loss\n",
    "    model_transfer.compile(\n",
    "        optimizer=optimizers.Adam(learning_rate=0.0005),\n",
    "        loss=focal_loss(alpha=alpha, gamma=gamma),\n",
    "        metrics=['accuracy']\n",
    "    )\n",
    "\n",
    "    # Define Callbacks\n",
    "    callbacks_transfer = [\n",
    "        tf.keras.callbacks.ModelCheckpoint(\n",
    "            f'best_model_transfer_{set_name}.keras',\n",
    "            monitor='val_accuracy',\n",
    "            save_best_only=True,\n",
    "            verbose=1\n",
    "        ),\n",
    "        tf.keras.callbacks.EarlyStopping(\n",
    "            monitor='val_accuracy',\n",
    "            patience=3,\n",
    "            verbose=1,\n",
    "            restore_best_weights=True\n",
    "        ),\n",
    "        tf.keras.callbacks.ReduceLROnPlateau(\n",
    "            monitor='val_accuracy',\n",
    "            factor=0.5,\n",
    "            patience=2,\n",
    "            verbose=1\n",
    "        )\n",
    "    ]\n",
    "\n",
    "    # Train the Model\n",
    "    history_transfer = model_transfer.fit(\n",
    "        train_gen,\n",
    "        validation_data=test_gen,\n",
    "        epochs=1,  # Adjust as needed\n",
    "        callbacks=callbacks_transfer,\n",
    "        verbose=1\n",
    "    )\n",
    "\n",
    "    # Unfreeze Layers for Fine-tuning\n",
    "    base_model.trainable = True\n",
    "\n",
    "    # Recompile the Model\n",
    "    model_transfer.compile(\n",
    "        optimizer=optimizers.Adam(learning_rate=1e-5),\n",
    "        loss=focal_loss(alpha=alpha, gamma=gamma),\n",
    "        metrics=['accuracy']\n",
    "    )\n",
    "    \n",
    "   \n",
    "\n",
    "    # Fine-tune the Model\n",
    "    history_fine_tune = model_transfer.fit(\n",
    "        train_gen,\n",
    "        validation_data=test_gen,\n",
    "        epochs=5,  # Adjust as needed\n",
    "        callbacks=callbacks_transfer,\n",
    "        verbose=1\n",
    "    )\n",
    "\n",
    "    # Load the Best Model\n",
    "    best_model = tf.keras.models.load_model(\n",
    "        f'best_model_transfer_{set_name}.keras',\n",
    "        custom_objects={'focal_loss_fixed': focal_loss(alpha=alpha, gamma=gamma)}\n",
    "    )\n",
    "\n",
    "    # Evaluate on test set\n",
    "    num_test_samples = len(test_labels)\n",
    "    validation_steps = np.ceil(num_test_samples / batch_size).astype(int)\n",
    "\n",
    "    predictions = best_model.predict(test_gen, steps=validation_steps)\n",
    "    predicted_labels = (predictions >= 0.15).astype(int).flatten()\n",
    "\n",
    "    # Compute and print confusion matrix and metrics\n",
    "    cm = confusion_matrix(test_labels[:len(predicted_labels)], predicted_labels)\n",
    "    precision = precision_score(test_labels[:len(predicted_labels)], predicted_labels, zero_division=0)\n",
    "    recall = recall_score(test_labels[:len(predicted_labels)], predicted_labels, zero_division=0)\n",
    "    report = classification_report(\n",
    "        test_labels[:len(predicted_labels)],\n",
    "        predicted_labels,\n",
    "        target_names=['Uncracked', 'Cracked'],\n",
    "        zero_division=0\n",
    "    )\n",
    "\n",
    "    print(f\"Confusion Matrix (Test Set {set_name}):\")\n",
    "    print(cm)\n",
    "    print(f\"\\nPrecision: {precision:.4f}\")\n",
    "    print(f\"Recall:    {recall:.4f}\")\n",
    "    print(\"\\nClassification Report:\")\n",
    "    print(report)\n",
    "\n",
    "    # Plot confusion matrix\n",
    "    plt.figure(figsize=(6, 5))\n",
    "    sns.heatmap(\n",
    "        cm,\n",
    "        annot=True,\n",
    "        fmt='d',\n",
    "        cmap='Blues',\n",
    "        xticklabels=['Uncracked (0)', 'Cracked (1)'],\n",
    "        yticklabels=['Uncracked (0)', 'Cracked (1)']\n",
    "    )\n",
    "    plt.ylabel('True Label')\n",
    "    plt.xlabel('Predicted Label')\n",
    "    plt.title(f'Confusion Matrix (Test Set {set_name})')\n",
    "    plt.show()'''\n",
    "\n",
    "\n",
    "# Import necessary libraries\n",
    "from sklearn.utils.class_weight import compute_class_weight\n",
    "import numpy as np\n",
    "import tensorflow as tf\n",
    "from tensorflow.keras import layers, models, optimizers\n",
    "from tensorflow.keras.applications import VGG16\n",
    "from sklearn.metrics import confusion_matrix, precision_score, recall_score, classification_report\n",
    "import seaborn as sns\n",
    "import matplotlib.pyplot as plt\n",
    "\n",
    "def train_and_evaluate(\n",
    "    train_gen,\n",
    "    test_gen,\n",
    "    train_labels,\n",
    "    test_labels,\n",
    "    set_name,\n",
    "    batch_size=16,\n",
    "    alpha=1,\n",
    "    gamma=0\n",
    "):\n",
    "    # Load VGG16 pre-trained model\n",
    "    base_model = VGG16(weights='imagenet', include_top=False, input_shape=(256, 256, 3))\n",
    "    base_model.trainable = False\n",
    "\n",
    "    # Build transfer learning model\n",
    "    model_transfer = models.Sequential([\n",
    "        base_model,\n",
    "        layers.Flatten(),\n",
    "        layers.Dense(128, activation='relu'),\n",
    "        layers.Dropout(0.5),\n",
    "        layers.Dense(1, activation='sigmoid')\n",
    "    ])\n",
    "\n",
    "    # Compile the Model with Custom Focal Loss\n",
    "    model_transfer.compile(\n",
    "        optimizer=optimizers.Adam(learning_rate=0.0005),\n",
    "        loss=focal_loss(alpha=alpha, gamma=gamma),\n",
    "        metrics=['accuracy']\n",
    "    )\n",
    "\n",
    "    # Augment Training Data\n",
    "    data_augmentation = tf.keras.Sequential([\n",
    "        layers.RandomFlip(\"horizontal_and_vertical\"),\n",
    "        layers.RandomRotation(0.1),\n",
    "        layers.RandomZoom(0.1)\n",
    "    ])\n",
    "    train_gen = train_gen.map(lambda x, y: (data_augmentation(x), y))\n",
    "\n",
    "    # Compute Class Weights\n",
    "    class_weights = compute_class_weight(\n",
    "        class_weight='balanced',\n",
    "        classes=np.unique(train_labels),\n",
    "        y=train_labels\n",
    "    )\n",
    "    class_weights_dict = {i: weight for i, weight in enumerate(class_weights)}\n",
    "\n",
    "    # Define Callbacks\n",
    "    callbacks_transfer = [\n",
    "        tf.keras.callbacks.ModelCheckpoint(\n",
    "            f'best_model_transfer_{set_name}.keras',\n",
    "            monitor='val_accuracy',\n",
    "            save_best_only=True,\n",
    "            verbose=1\n",
    "        ),\n",
    "        tf.keras.callbacks.EarlyStopping(\n",
    "            monitor='val_accuracy',\n",
    "            patience=3,\n",
    "            verbose=1,\n",
    "            restore_best_weights=True\n",
    "        ),\n",
    "        tf.keras.callbacks.ReduceLROnPlateau(\n",
    "            monitor='val_accuracy',\n",
    "            factor=0.5,\n",
    "            patience=2,\n",
    "            verbose=1\n",
    "        )\n",
    "    ]\n",
    "\n",
    "    # Train the Model\n",
    "    history_transfer = model_transfer.fit(\n",
    "        train_gen,\n",
    "        validation_data=test_gen,\n",
    "        epochs=10,  # Adjust epochs as needed\n",
    "        callbacks=callbacks_transfer,\n",
    "        class_weight=class_weights_dict,\n",
    "        verbose=1\n",
    "    )\n",
    "\n",
    "    # Rest of the function remains unchanged...\n",
    "\n",
    "\n",
    "    # Unfreeze Layers for Fine-tuning\n",
    "    for layer in base_model.layers[-10:]:  # Fine-tune the top layers only\n",
    "        layer.trainable = True\n",
    "\n",
    "    # Recompile the Model\n",
    "    model_transfer.compile(\n",
    "        optimizer=optimizers.Adam(learning_rate=1e-5),\n",
    "        loss=focal_loss(alpha=alpha, gamma=gamma),\n",
    "        metrics=['accuracy']\n",
    "    )\n",
    "\n",
    "    # Fine-tune the Model\n",
    "    history_fine_tune = model_transfer.fit(\n",
    "        train_gen,\n",
    "        validation_data=test_gen,\n",
    "        epochs=5,  # Adjust as needed\n",
    "        callbacks=callbacks_transfer,\n",
    "        verbose=1\n",
    "    )\n",
    "\n",
    "    # Load the Best Model\n",
    "    best_model = tf.keras.models.load_model(\n",
    "        f'best_model_transfer_{set_name}.keras',\n",
    "        custom_objects={'focal_loss_fixed': focal_loss(alpha=alpha, gamma=gamma)}\n",
    "    )\n",
    "\n",
    "    # Evaluate on test set\n",
    "    num_test_samples = len(test_labels)\n",
    "    validation_steps = np.ceil(num_test_samples / batch_size).astype(int)\n",
    "    predictions = best_model.predict(test_gen, steps=validation_steps)\n",
    "\n",
    "    # Optimize Prediction Threshold\n",
    "    from sklearn.metrics import precision_recall_curve\n",
    "\n",
    "    def optimize_threshold(y_true, y_pred):\n",
    "        precision, recall, thresholds = precision_recall_curve(y_true, y_pred)\n",
    "        f1_scores = 2 * precision * recall / (precision + recall)\n",
    "        optimal_idx = np.argmax(f1_scores)\n",
    "        return thresholds[optimal_idx]\n",
    "\n",
    "    optimal_threshold = optimize_threshold(test_labels, predictions)\n",
    "    print(f\"Optimal Threshold: {optimal_threshold:.2f}\")\n",
    "\n",
    "    predicted_labels = (predictions >= optimal_threshold).astype(int).flatten()\n",
    "\n",
    "    # Compute and print confusion matrix and metrics\n",
    "    cm = confusion_matrix(test_labels[:len(predicted_labels)], predicted_labels)\n",
    "    precision = precision_score(test_labels[:len(predicted_labels)], predicted_labels, zero_division=0)\n",
    "    recall = recall_score(test_labels[:len(predicted_labels)], predicted_labels, zero_division=0)\n",
    "    report = classification_report(\n",
    "        test_labels[:len(predicted_labels)],\n",
    "        predicted_labels,\n",
    "        target_names=['Uncracked', 'Cracked'],\n",
    "        zero_division=0\n",
    "    )\n",
    "\n",
    "    print(f\"Confusion Matrix (Test Set {set_name}):\")\n",
    "    print(cm)\n",
    "    print(f\"\\nPrecision: {precision:.4f}\")\n",
    "    print(f\"Recall:    {recall:.4f}\")\n",
    "    print(\"\\nClassification Report:\")\n",
    "    print(report)\n",
    "\n",
    "    # Plot confusion matrix\n",
    "    plt.figure(figsize=(6, 5))\n",
    "    sns.heatmap(\n",
    "        cm,\n",
    "        annot=True,\n",
    "        fmt='d',\n",
    "        cmap='Blues',\n",
    "        xticklabels=['Uncracked (0)', 'Cracked (1)'],\n",
    "        yticklabels=['Uncracked (0)', 'Cracked (1)']\n",
    "    )\n",
    "    plt.ylabel('True Label')\n",
    "    plt.xlabel('Predicted Label')\n",
    "    plt.title(f'Confusion Matrix (Test Set {set_name})')\n",
    "    plt.show()\n",
    "\n",
    "    # Plot ROC Curve\n",
    "    from sklearn.metrics import roc_curve, auc\n",
    "\n",
    "    def plot_roc_curve(y_true, y_pred):\n",
    "        fpr, tpr, _ = roc_curve(y_true, y_pred)\n",
    "        roc_auc = auc(fpr, tpr)\n",
    "        plt.figure()\n",
    "        plt.plot(fpr, tpr, color='darkorange', lw=2, label=f'ROC curve (area = {roc_auc:.2f})')\n",
    "        plt.plot([0, 1], [0, 1], color='navy', lw=2, linestyle='--')\n",
    "        plt.xlabel('False Positive Rate')\n",
    "        plt.ylabel('True Positive Rate')\n",
    "        plt.title('ROC Curve')\n",
    "        plt.legend(loc=\"lower right\")\n",
    "        plt.show()\n",
    "\n",
    "    plot_roc_curve(test_labels, predictions)\n",
    "\n"
   ]
  },
  {
   "cell_type": "code",
   "execution_count": null,
   "id": "c7a6a141-685e-4587-8a49-574e0762c1a4",
   "metadata": {},
   "outputs": [],
   "source": []
  },
  {
   "cell_type": "code",
   "execution_count": null,
   "id": "4f7d8fa8-5514-4583-934f-cb01a6c2b3c1",
   "metadata": {},
   "outputs": [],
   "source": []
  },
  {
   "cell_type": "code",
   "execution_count": null,
   "id": "6cca15f4-c4c0-4766-8a7a-c8fda9787765",
   "metadata": {},
   "outputs": [],
   "source": []
  },
  {
   "cell_type": "code",
   "execution_count": null,
   "id": "5949e585-3add-4b49-bbcf-70e99e08a2b0",
   "metadata": {},
   "outputs": [],
   "source": []
  },
  {
   "cell_type": "code",
   "execution_count": null,
   "id": "62744d95-4c4e-4f8d-b77b-242b1c4d8ce0",
   "metadata": {},
   "outputs": [],
   "source": []
  },
  {
   "cell_type": "code",
   "execution_count": null,
   "id": "98e6e101-98b1-4ee1-8e3e-714c81805a63",
   "metadata": {},
   "outputs": [],
   "source": []
  },
  {
   "cell_type": "code",
   "execution_count": 20,
   "id": "271dc684-0c62-43e5-ab09-13c8200e7336",
   "metadata": {},
   "outputs": [],
   "source": [
    "# List of training generators and labels with their set names\n",
    "training_sets = [\n",
    "    {'name': 'A', 'gen': train_gen_A, 'labels': train_labels_A},\n",
    "    {'name': 'B', 'gen': train_gen_B, 'labels': train_labels_B},\n",
    "    {'name': 'C', 'gen': train_gen_C, 'labels': train_labels_C},\n",
    "    # Add more training sets if available\n",
    "]\n",
    "\n",
    "# List of testing generators and labels with their set names\n",
    "testing_sets = [\n",
    "    {'name': 'D', 'gen': test_gen_D, 'labels': test_labels_D},\n",
    "    {'name': 'P', 'gen': test_gen_P, 'labels': test_labels_P},\n",
    "    # Add more testing sets if available\n",
    "]"
   ]
  },
  {
   "cell_type": "code",
   "execution_count": 21,
   "id": "80eccc85-f253-423d-8f8d-455399979b94",
   "metadata": {
    "tags": []
   },
   "outputs": [
    {
     "name": "stdout",
     "output_type": "stream",
     "text": [
      "\n",
      "Training on set A and testing on set D\n",
      "Epoch 1/10\n"
     ]
    },
    {
     "name": "stderr",
     "output_type": "stream",
     "text": [
      "WARNING: All log messages before absl::InitializeLog() is called are written to STDERR\n",
      "I0000 00:00:1733725042.672870  136066 service.cc:148] XLA service 0x7f4b6400d640 initialized for platform CUDA (this does not guarantee that XLA will be used). Devices:\n",
      "I0000 00:00:1733725042.672919  136066 service.cc:156]   StreamExecutor device (0): NVIDIA A100-SXM4-40GB, Compute Capability 8.0\n",
      "2024-12-09 01:17:22.706808: I tensorflow/compiler/mlir/tensorflow/utils/dump_mlir_util.cc:268] disabling MLIR crash reproducer, set env var `MLIR_CRASH_REPRODUCER_DIRECTORY` to enable.\n",
      "I0000 00:00:1733725042.908217  136066 cuda_dnn.cc:529] Loaded cuDNN version 90300\n",
      "2024-12-09 01:17:24.817533: W external/local_xla/xla/service/gpu/nvptx_compiler.cc:930] The NVIDIA driver's CUDA version is 12.4 which is older than the PTX compiler version 12.5.82. Because the driver is older than the PTX compiler version, XLA is disabling parallel compilation, which may slow down compilation. You should update your NVIDIA driver or use the NVIDIA-provided CUDA forward compatibility packages.\n"
     ]
    },
    {
     "name": "stdout",
     "output_type": "stream",
     "text": [
      "      9/Unknown \u001b[1m5s\u001b[0m 14ms/step - accuracy: 0.8631 - loss: 0.5995"
     ]
    },
    {
     "name": "stderr",
     "output_type": "stream",
     "text": [
      "I0000 00:00:1733725045.266083  136066 device_compiler.h:188] Compiled cluster using XLA!  This line is logged at most once for the lifetime of the process.\n"
     ]
    },
    {
     "name": "stdout",
     "output_type": "stream",
     "text": [
      "    930/Unknown \u001b[1m159s\u001b[0m 167ms/step - accuracy: 0.8867 - loss: 0.4188"
     ]
    },
    {
     "name": "stderr",
     "output_type": "stream",
     "text": [
      "2024-12-09 01:20:00.318358: I tensorflow/core/framework/local_rendezvous.cc:405] Local rendezvous is aborting with status: OUT_OF_RANGE: End of sequence\n",
      "\t [[{{node IteratorGetNext}}]]\n",
      "2024-12-09 01:20:00.318457: I tensorflow/core/framework/local_rendezvous.cc:405] Local rendezvous is aborting with status: OUT_OF_RANGE: End of sequence\n",
      "\t [[{{node IteratorGetNext}}]]\n",
      "\t [[IteratorGetNext/_4]]\n",
      "/apps/software/standard/core/jupyterlab/3.6.3-py3.11/lib/python3.11/contextlib.py:155: UserWarning: Your input ran out of data; interrupting training. Make sure that your dataset or generator can generate at least `steps_per_epoch * epochs` batches. You may need to use the `.repeat()` function when building your dataset.\n",
      "  self.gen.throw(typ, value, traceback)\n"
     ]
    },
    {
     "name": "stdout",
     "output_type": "stream",
     "text": [
      "\n",
      "Epoch 1: val_accuracy improved from -inf to 0.90202, saving model to best_model_transfer_A_to_D.keras\n"
     ]
    },
    {
     "name": "stderr",
     "output_type": "stream",
     "text": [
      "2024-12-09 01:20:02.714132: I tensorflow/core/framework/local_rendezvous.cc:405] Local rendezvous is aborting with status: OUT_OF_RANGE: End of sequence\n",
      "\t [[{{node IteratorGetNext}}]]\n",
      "\t [[IteratorGetNext/_2]]\n"
     ]
    },
    {
     "name": "stdout",
     "output_type": "stream",
     "text": [
      "\u001b[1m930/930\u001b[0m \u001b[32m━━━━━━━━━━━━━━━━━━━━\u001b[0m\u001b[37m\u001b[0m \u001b[1m162s\u001b[0m 170ms/step - accuracy: 0.8867 - loss: 0.4188 - val_accuracy: 0.9020 - val_loss: 0.2572 - learning_rate: 5.0000e-04\n",
      "Epoch 2/10\n",
      "\u001b[1m930/930\u001b[0m \u001b[32m━━━━━━━━━━━━━━━━━━━━\u001b[0m\u001b[37m\u001b[0m \u001b[1m0s\u001b[0m 167ms/step - accuracy: 0.8952 - loss: 0.3691"
     ]
    },
    {
     "name": "stderr",
     "output_type": "stream",
     "text": [
      "2024-12-09 01:22:38.287303: I tensorflow/core/framework/local_rendezvous.cc:424] Local rendezvous recv item cancelled. Key hash: 1118476411542817906\n",
      "2024-12-09 01:22:38.287406: I tensorflow/core/framework/local_rendezvous.cc:424] Local rendezvous recv item cancelled. Key hash: 15570649574560941888\n"
     ]
    },
    {
     "name": "stdout",
     "output_type": "stream",
     "text": [
      "\n",
      "Epoch 2: val_accuracy did not improve from 0.90202\n",
      "\u001b[1m930/930\u001b[0m \u001b[32m━━━━━━━━━━━━━━━━━━━━\u001b[0m\u001b[37m\u001b[0m \u001b[1m156s\u001b[0m 168ms/step - accuracy: 0.8952 - loss: 0.3691 - val_accuracy: 0.9020 - val_loss: 0.2457 - learning_rate: 5.0000e-04\n",
      "Epoch 3/10\n"
     ]
    },
    {
     "name": "stderr",
     "output_type": "stream",
     "text": [
      "2024-12-09 01:22:39.354203: I tensorflow/core/framework/local_rendezvous.cc:405] Local rendezvous is aborting with status: OUT_OF_RANGE: End of sequence\n",
      "\t [[{{node IteratorGetNext}}]]\n",
      "\t [[IteratorGetNext/_4]]\n",
      "2024-12-09 01:22:39.354304: I tensorflow/core/framework/local_rendezvous.cc:424] Local rendezvous recv item cancelled. Key hash: 15181037279408896171\n",
      "2024-12-09 01:22:39.354320: I tensorflow/core/framework/local_rendezvous.cc:424] Local rendezvous recv item cancelled. Key hash: 15570649574560941888\n"
     ]
    },
    {
     "name": "stdout",
     "output_type": "stream",
     "text": [
      "\u001b[1m930/930\u001b[0m \u001b[32m━━━━━━━━━━━━━━━━━━━━\u001b[0m\u001b[37m\u001b[0m \u001b[1m0s\u001b[0m 166ms/step - accuracy: 0.8946 - loss: 0.3565"
     ]
    },
    {
     "name": "stderr",
     "output_type": "stream",
     "text": [
      "2024-12-09 01:25:14.129016: I tensorflow/core/framework/local_rendezvous.cc:424] Local rendezvous recv item cancelled. Key hash: 15181037279408896171\n",
      "2024-12-09 01:25:14.129095: I tensorflow/core/framework/local_rendezvous.cc:424] Local rendezvous recv item cancelled. Key hash: 1118476411542817906\n",
      "2024-12-09 01:25:14.129119: I tensorflow/core/framework/local_rendezvous.cc:424] Local rendezvous recv item cancelled. Key hash: 15570649574560941888\n"
     ]
    },
    {
     "name": "stdout",
     "output_type": "stream",
     "text": [
      "\n",
      "Epoch 3: val_accuracy did not improve from 0.90202\n",
      "\n",
      "Epoch 3: ReduceLROnPlateau reducing learning rate to 0.0002500000118743628.\n",
      "\u001b[1m930/930\u001b[0m \u001b[32m━━━━━━━━━━━━━━━━━━━━\u001b[0m\u001b[37m\u001b[0m \u001b[1m156s\u001b[0m 167ms/step - accuracy: 0.8946 - loss: 0.3565 - val_accuracy: 0.9020 - val_loss: 0.2709 - learning_rate: 5.0000e-04\n",
      "Epoch 4/10\n"
     ]
    },
    {
     "name": "stderr",
     "output_type": "stream",
     "text": [
      "2024-12-09 01:25:15.130604: I tensorflow/core/framework/local_rendezvous.cc:424] Local rendezvous recv item cancelled. Key hash: 15181037279408896171\n",
      "2024-12-09 01:25:15.130710: I tensorflow/core/framework/local_rendezvous.cc:424] Local rendezvous recv item cancelled. Key hash: 15570649574560941888\n"
     ]
    },
    {
     "name": "stdout",
     "output_type": "stream",
     "text": [
      "\u001b[1m930/930\u001b[0m \u001b[32m━━━━━━━━━━━━━━━━━━━━\u001b[0m\u001b[37m\u001b[0m \u001b[1m0s\u001b[0m 166ms/step - accuracy: 0.8977 - loss: 0.3355"
     ]
    },
    {
     "name": "stderr",
     "output_type": "stream",
     "text": [
      "2024-12-09 01:27:49.987486: I tensorflow/core/framework/local_rendezvous.cc:424] Local rendezvous recv item cancelled. Key hash: 1118476411542817906\n",
      "2024-12-09 01:27:49.987604: I tensorflow/core/framework/local_rendezvous.cc:424] Local rendezvous recv item cancelled. Key hash: 15570649574560941888\n"
     ]
    },
    {
     "name": "stdout",
     "output_type": "stream",
     "text": [
      "\n",
      "Epoch 4: val_accuracy did not improve from 0.90202\n",
      "\u001b[1m930/930\u001b[0m \u001b[32m━━━━━━━━━━━━━━━━━━━━\u001b[0m\u001b[37m\u001b[0m \u001b[1m156s\u001b[0m 168ms/step - accuracy: 0.8977 - loss: 0.3355 - val_accuracy: 0.9020 - val_loss: 0.2351 - learning_rate: 2.5000e-04\n",
      "Epoch 4: early stopping\n",
      "Restoring model weights from the end of the best epoch: 1.\n",
      "Epoch 1/5\n"
     ]
    },
    {
     "name": "stderr",
     "output_type": "stream",
     "text": [
      "2024-12-09 01:27:51.010047: I tensorflow/core/framework/local_rendezvous.cc:405] Local rendezvous is aborting with status: OUT_OF_RANGE: End of sequence\n",
      "\t [[{{node IteratorGetNext}}]]\n",
      "\t [[IteratorGetNext/_4]]\n",
      "2024-12-09 01:27:51.010157: I tensorflow/core/framework/local_rendezvous.cc:424] Local rendezvous recv item cancelled. Key hash: 15181037279408896171\n",
      "2024-12-09 01:27:51.010173: I tensorflow/core/framework/local_rendezvous.cc:424] Local rendezvous recv item cancelled. Key hash: 15570649574560941888\n"
     ]
    },
    {
     "name": "stdout",
     "output_type": "stream",
     "text": [
      "    930/Unknown \u001b[1m173s\u001b[0m 180ms/step - accuracy: 0.9056 - loss: 0.2846"
     ]
    },
    {
     "name": "stderr",
     "output_type": "stream",
     "text": [
      "2024-12-09 01:30:44.180284: I tensorflow/core/framework/local_rendezvous.cc:424] Local rendezvous recv item cancelled. Key hash: 15570649574560941888\n"
     ]
    },
    {
     "name": "stdout",
     "output_type": "stream",
     "text": [
      "\n",
      "Epoch 1: val_accuracy improved from 0.90202 to 0.94868, saving model to best_model_transfer_A_to_D.keras\n"
     ]
    },
    {
     "name": "stderr",
     "output_type": "stream",
     "text": [
      "2024-12-09 01:30:45.906286: I tensorflow/core/framework/local_rendezvous.cc:424] Local rendezvous recv item cancelled. Key hash: 15181037279408896171\n",
      "2024-12-09 01:30:45.906385: I tensorflow/core/framework/local_rendezvous.cc:424] Local rendezvous recv item cancelled. Key hash: 15570649574560941888\n"
     ]
    },
    {
     "name": "stdout",
     "output_type": "stream",
     "text": [
      "\u001b[1m930/930\u001b[0m \u001b[32m━━━━━━━━━━━━━━━━━━━━\u001b[0m\u001b[37m\u001b[0m \u001b[1m175s\u001b[0m 182ms/step - accuracy: 0.9056 - loss: 0.2846 - val_accuracy: 0.9487 - val_loss: 0.1465 - learning_rate: 1.0000e-05\n",
      "Epoch 2/5\n",
      "\u001b[1m930/930\u001b[0m \u001b[32m━━━━━━━━━━━━━━━━━━━━\u001b[0m\u001b[37m\u001b[0m \u001b[1m0s\u001b[0m 177ms/step - accuracy: 0.9329 - loss: 0.2196"
     ]
    },
    {
     "name": "stderr",
     "output_type": "stream",
     "text": [
      "2024-12-09 01:33:31.119305: I tensorflow/core/framework/local_rendezvous.cc:424] Local rendezvous recv item cancelled. Key hash: 15570649574560941888\n"
     ]
    },
    {
     "name": "stdout",
     "output_type": "stream",
     "text": [
      "\n",
      "Epoch 2: val_accuracy improved from 0.94868 to 0.95723, saving model to best_model_transfer_A_to_D.keras\n",
      "\u001b[1m930/930\u001b[0m \u001b[32m━━━━━━━━━━━━━━━━━━━━\u001b[0m\u001b[37m\u001b[0m \u001b[1m166s\u001b[0m 179ms/step - accuracy: 0.9329 - loss: 0.2196 - val_accuracy: 0.9572 - val_loss: 0.1311 - learning_rate: 1.0000e-05\n",
      "Epoch 3/5\n",
      "\u001b[1m930/930\u001b[0m \u001b[32m━━━━━━━━━━━━━━━━━━━━\u001b[0m\u001b[37m\u001b[0m \u001b[1m0s\u001b[0m 176ms/step - accuracy: 0.9400 - loss: 0.1935\n",
      "Epoch 3: val_accuracy improved from 0.95723 to 0.96034, saving model to best_model_transfer_A_to_D.keras\n",
      "\u001b[1m930/930\u001b[0m \u001b[32m━━━━━━━━━━━━━━━━━━━━\u001b[0m\u001b[37m\u001b[0m \u001b[1m165s\u001b[0m 178ms/step - accuracy: 0.9400 - loss: 0.1935 - val_accuracy: 0.9603 - val_loss: 0.1264 - learning_rate: 1.0000e-05\n",
      "Epoch 4/5\n",
      "\u001b[1m930/930\u001b[0m \u001b[32m━━━━━━━━━━━━━━━━━━━━\u001b[0m\u001b[37m\u001b[0m \u001b[1m0s\u001b[0m 177ms/step - accuracy: 0.9434 - loss: 0.1974"
     ]
    },
    {
     "name": "stderr",
     "output_type": "stream",
     "text": [
      "2024-12-09 01:39:03.014286: I tensorflow/core/framework/local_rendezvous.cc:424] Local rendezvous recv item cancelled. Key hash: 15570649574560941888\n"
     ]
    },
    {
     "name": "stdout",
     "output_type": "stream",
     "text": [
      "\n",
      "Epoch 4: val_accuracy improved from 0.96034 to 0.96423, saving model to best_model_transfer_A_to_D.keras\n"
     ]
    },
    {
     "name": "stderr",
     "output_type": "stream",
     "text": [
      "2024-12-09 01:39:04.023346: I tensorflow/core/framework/local_rendezvous.cc:405] Local rendezvous is aborting with status: OUT_OF_RANGE: End of sequence\n",
      "\t [[{{node IteratorGetNext}}]]\n",
      "\t [[IteratorGetNext/_2]]\n"
     ]
    },
    {
     "name": "stdout",
     "output_type": "stream",
     "text": [
      "\u001b[1m930/930\u001b[0m \u001b[32m━━━━━━━━━━━━━━━━━━━━\u001b[0m\u001b[37m\u001b[0m \u001b[1m166s\u001b[0m 179ms/step - accuracy: 0.9434 - loss: 0.1974 - val_accuracy: 0.9642 - val_loss: 0.1022 - learning_rate: 1.0000e-05\n",
      "Epoch 5/5\n",
      "\u001b[1m930/930\u001b[0m \u001b[32m━━━━━━━━━━━━━━━━━━━━\u001b[0m\u001b[37m\u001b[0m \u001b[1m0s\u001b[0m 177ms/step - accuracy: 0.9475 - loss: 0.1752"
     ]
    },
    {
     "name": "stderr",
     "output_type": "stream",
     "text": [
      "2024-12-09 01:41:49.544433: I tensorflow/core/framework/local_rendezvous.cc:424] Local rendezvous recv item cancelled. Key hash: 15570649574560941888\n"
     ]
    },
    {
     "name": "stdout",
     "output_type": "stream",
     "text": [
      "\n",
      "Epoch 5: val_accuracy improved from 0.96423 to 0.96579, saving model to best_model_transfer_A_to_D.keras\n",
      "\u001b[1m930/930\u001b[0m \u001b[32m━━━━━━━━━━━━━━━━━━━━\u001b[0m\u001b[37m\u001b[0m \u001b[1m167s\u001b[0m 179ms/step - accuracy: 0.9475 - loss: 0.1752 - val_accuracy: 0.9658 - val_loss: 0.1021 - learning_rate: 1.0000e-05\n",
      "Restoring model weights from the end of the best epoch: 5.\n",
      "\u001b[1m81/81\u001b[0m \u001b[32m━━━━━━━━━━━━━━━━━━━━\u001b[0m\u001b[37m\u001b[0m \u001b[1m2s\u001b[0m 18ms/step\n",
      "Optimal Threshold: 0.30\n",
      "Confusion Matrix (Test Set A_to_D):\n",
      "[[1145   15]\n",
      " [  25  101]]\n",
      "\n",
      "Precision: 0.8707\n",
      "Recall:    0.8016\n",
      "\n",
      "Classification Report:\n",
      "              precision    recall  f1-score   support\n",
      "\n",
      "   Uncracked       0.98      0.99      0.98      1160\n",
      "     Cracked       0.87      0.80      0.83       126\n",
      "\n",
      "    accuracy                           0.97      1286\n",
      "   macro avg       0.92      0.89      0.91      1286\n",
      "weighted avg       0.97      0.97      0.97      1286\n",
      "\n"
     ]
    },
    {
     "data": {
      "image/png": "[encoded data removed]",
      "text/plain": [
       "<Figure size 600x500 with 2 Axes>"
      ]
     },
     "metadata": {},
     "output_type": "display_data"
    },
    {
     "data": {
      "image/png": "[encoded data removed]",
      "text/plain": [
       "<Figure size 640x480 with 1 Axes>"
      ]
     },
     "metadata": {},
     "output_type": "display_data"
    },
    {
     "name": "stdout",
     "output_type": "stream",
     "text": [
      "\n",
      "Training on set A and testing on set P\n",
      "Epoch 1/10\n",
      "    930/Unknown \u001b[1m158s\u001b[0m 168ms/step - accuracy: 0.8818 - loss: 0.4647"
     ]
    },
    {
     "name": "stderr",
     "output_type": "stream",
     "text": [
      "2024-12-09 01:44:31.991214: I tensorflow/core/framework/local_rendezvous.cc:424] Local rendezvous recv item cancelled. Key hash: 15181037279408896171\n",
      "/apps/software/standard/core/jupyterlab/3.6.3-py3.11/lib/python3.11/contextlib.py:155: UserWarning: Your input ran out of data; interrupting training. Make sure that your dataset or generator can generate at least `steps_per_epoch * epochs` batches. You may need to use the `.repeat()` function when building your dataset.\n",
      "  self.gen.throw(typ, value, traceback)\n",
      "2024-12-09 01:44:31.991306: I tensorflow/core/framework/local_rendezvous.cc:424] Local rendezvous recv item cancelled. Key hash: 1118476411542817906\n",
      "2024-12-09 01:44:31.991338: I tensorflow/core/framework/local_rendezvous.cc:424] Local rendezvous recv item cancelled. Key hash: 15570649574560941888\n"
     ]
    },
    {
     "name": "stdout",
     "output_type": "stream",
     "text": [
      "\n",
      "Epoch 1: val_accuracy improved from -inf to 0.89277, saving model to best_model_transfer_A_to_P.keras\n"
     ]
    },
    {
     "name": "stderr",
     "output_type": "stream",
     "text": [
      "2024-12-09 01:44:35.608319: I tensorflow/core/framework/local_rendezvous.cc:424] Local rendezvous recv item cancelled. Key hash: 15181037279408896171\n"
     ]
    },
    {
     "name": "stdout",
     "output_type": "stream",
     "text": [
      "\u001b[1m930/930\u001b[0m \u001b[32m━━━━━━━━━━━━━━━━━━━━\u001b[0m\u001b[37m\u001b[0m \u001b[1m162s\u001b[0m 172ms/step - accuracy: 0.8818 - loss: 0.4646 - val_accuracy: 0.8928 - val_loss: 0.2772 - learning_rate: 5.0000e-04\n",
      "Epoch 2/10\n",
      "\u001b[1m930/930\u001b[0m \u001b[32m━━━━━━━━━━━━━━━━━━━━\u001b[0m\u001b[37m\u001b[0m \u001b[1m0s\u001b[0m 168ms/step - accuracy: 0.8965 - loss: 0.3574"
     ]
    },
    {
     "name": "stderr",
     "output_type": "stream",
     "text": [
      "2024-12-09 01:47:12.118465: I tensorflow/core/framework/local_rendezvous.cc:424] Local rendezvous recv item cancelled. Key hash: 15181037279408896171\n"
     ]
    },
    {
     "name": "stdout",
     "output_type": "stream",
     "text": [
      "\n",
      "Epoch 2: val_accuracy did not improve from 0.89277\n",
      "\u001b[1m930/930\u001b[0m \u001b[32m━━━━━━━━━━━━━━━━━━━━\u001b[0m\u001b[37m\u001b[0m \u001b[1m158s\u001b[0m 170ms/step - accuracy: 0.8965 - loss: 0.3574 - val_accuracy: 0.8928 - val_loss: 0.2666 - learning_rate: 5.0000e-04\n",
      "Epoch 3/10\n"
     ]
    },
    {
     "name": "stderr",
     "output_type": "stream",
     "text": [
      "2024-12-09 01:47:14.159782: I tensorflow/core/framework/local_rendezvous.cc:424] Local rendezvous recv item cancelled. Key hash: 15181037279408896171\n",
      "2024-12-09 01:47:14.159887: I tensorflow/core/framework/local_rendezvous.cc:424] Local rendezvous recv item cancelled. Key hash: 15570649574560941888\n"
     ]
    },
    {
     "name": "stdout",
     "output_type": "stream",
     "text": [
      "\u001b[1m930/930\u001b[0m \u001b[32m━━━━━━━━━━━━━━━━━━━━\u001b[0m\u001b[37m\u001b[0m \u001b[1m0s\u001b[0m 167ms/step - accuracy: 0.8986 - loss: 0.3351\n",
      "Epoch 3: val_accuracy did not improve from 0.89277\n",
      "\n",
      "Epoch 3: ReduceLROnPlateau reducing learning rate to 0.0002500000118743628.\n",
      "\u001b[1m930/930\u001b[0m \u001b[32m━━━━━━━━━━━━━━━━━━━━\u001b[0m\u001b[37m\u001b[0m \u001b[1m157s\u001b[0m 169ms/step - accuracy: 0.8986 - loss: 0.3351 - val_accuracy: 0.8928 - val_loss: 0.2587 - learning_rate: 5.0000e-04\n",
      "Epoch 4/10\n",
      "\u001b[1m930/930\u001b[0m \u001b[32m━━━━━━━━━━━━━━━━━━━━\u001b[0m\u001b[37m\u001b[0m \u001b[1m0s\u001b[0m 168ms/step - accuracy: 0.8959 - loss: 0.3299\n",
      "Epoch 4: val_accuracy did not improve from 0.89277\n",
      "\u001b[1m930/930\u001b[0m \u001b[32m━━━━━━━━━━━━━━━━━━━━\u001b[0m\u001b[37m\u001b[0m \u001b[1m158s\u001b[0m 170ms/step - accuracy: 0.8959 - loss: 0.3299 - val_accuracy: 0.8928 - val_loss: 0.3000 - learning_rate: 2.5000e-04\n",
      "Epoch 4: early stopping\n",
      "Restoring model weights from the end of the best epoch: 1.\n",
      "Epoch 1/5\n"
     ]
    },
    {
     "name": "stderr",
     "output_type": "stream",
     "text": [
      "2024-12-09 01:52:29.703764: I tensorflow/core/framework/local_rendezvous.cc:424] Local rendezvous recv item cancelled. Key hash: 15181037279408896171\n",
      "2024-12-09 01:52:29.703848: I tensorflow/core/framework/local_rendezvous.cc:424] Local rendezvous recv item cancelled. Key hash: 15570649574560941888\n"
     ]
    },
    {
     "name": "stdout",
     "output_type": "stream",
     "text": [
      "    930/Unknown \u001b[1m167s\u001b[0m 176ms/step - accuracy: 0.9151 - loss: 0.2767"
     ]
    },
    {
     "name": "stderr",
     "output_type": "stream",
     "text": [
      "2024-12-09 01:55:17.210666: I tensorflow/core/framework/local_rendezvous.cc:424] Local rendezvous recv item cancelled. Key hash: 15181037279408896171\n",
      "2024-12-09 01:55:17.210749: I tensorflow/core/framework/local_rendezvous.cc:424] Local rendezvous recv item cancelled. Key hash: 15570649574560941888\n"
     ]
    },
    {
     "name": "stdout",
     "output_type": "stream",
     "text": [
      "\n",
      "Epoch 1: val_accuracy improved from 0.89277 to 0.94330, saving model to best_model_transfer_A_to_P.keras\n",
      "\u001b[1m930/930\u001b[0m \u001b[32m━━━━━━━━━━━━━━━━━━━━\u001b[0m\u001b[37m\u001b[0m \u001b[1m170s\u001b[0m 180ms/step - accuracy: 0.9151 - loss: 0.2767 - val_accuracy: 0.9433 - val_loss: 0.1821 - learning_rate: 1.0000e-05\n",
      "Epoch 2/5\n",
      "\u001b[1m930/930\u001b[0m \u001b[32m━━━━━━━━━━━━━━━━━━━━\u001b[0m\u001b[37m\u001b[0m \u001b[1m0s\u001b[0m 181ms/step - accuracy: 0.9380 - loss: 0.2193"
     ]
    },
    {
     "name": "stderr",
     "output_type": "stream",
     "text": [
      "2024-12-09 01:58:08.302058: I tensorflow/core/framework/local_rendezvous.cc:424] Local rendezvous recv item cancelled. Key hash: 15570649574560941888\n"
     ]
    },
    {
     "name": "stdout",
     "output_type": "stream",
     "text": [
      "\n",
      "Epoch 2: val_accuracy did not improve from 0.94330\n",
      "\u001b[1m930/930\u001b[0m \u001b[32m━━━━━━━━━━━━━━━━━━━━\u001b[0m\u001b[37m\u001b[0m \u001b[1m170s\u001b[0m 183ms/step - accuracy: 0.9380 - loss: 0.2193 - val_accuracy: 0.9359 - val_loss: 0.1972 - learning_rate: 1.0000e-05\n",
      "Epoch 3/5\n"
     ]
    },
    {
     "name": "stderr",
     "output_type": "stream",
     "text": [
      "2024-12-09 01:58:10.236923: I tensorflow/core/framework/local_rendezvous.cc:424] Local rendezvous recv item cancelled. Key hash: 15570649574560941888\n"
     ]
    },
    {
     "name": "stdout",
     "output_type": "stream",
     "text": [
      "\u001b[1m930/930\u001b[0m \u001b[32m━━━━━━━━━━━━━━━━━━━━\u001b[0m\u001b[37m\u001b[0m \u001b[1m0s\u001b[0m 183ms/step - accuracy: 0.9433 - loss: 0.1961"
     ]
    },
    {
     "name": "stderr",
     "output_type": "stream",
     "text": [
      "2024-12-09 02:01:00.484480: I tensorflow/core/framework/local_rendezvous.cc:424] Local rendezvous recv item cancelled. Key hash: 15570649574560941888\n"
     ]
    },
    {
     "name": "stdout",
     "output_type": "stream",
     "text": [
      "\n",
      "Epoch 3: val_accuracy improved from 0.94330 to 0.94864, saving model to best_model_transfer_A_to_P.keras\n"
     ]
    },
    {
     "name": "stderr",
     "output_type": "stream",
     "text": [
      "2024-12-09 02:01:02.503417: I tensorflow/core/framework/local_rendezvous.cc:405] Local rendezvous is aborting with status: OUT_OF_RANGE: End of sequence\n",
      "\t [[{{node IteratorGetNext}}]]\n",
      "\t [[IteratorGetNext/_4]]\n"
     ]
    },
    {
     "name": "stdout",
     "output_type": "stream",
     "text": [
      "\u001b[1m930/930\u001b[0m \u001b[32m━━━━━━━━━━━━━━━━━━━━\u001b[0m\u001b[37m\u001b[0m \u001b[1m173s\u001b[0m 186ms/step - accuracy: 0.9433 - loss: 0.1961 - val_accuracy: 0.9486 - val_loss: 0.1594 - learning_rate: 1.0000e-05\n",
      "Epoch 4/5\n",
      "\u001b[1m930/930\u001b[0m \u001b[32m━━━━━━━━━━━━━━━━━━━━\u001b[0m\u001b[37m\u001b[0m \u001b[1m0s\u001b[0m 175ms/step - accuracy: 0.9414 - loss: 0.1934"
     ]
    },
    {
     "name": "stderr",
     "output_type": "stream",
     "text": [
      "2024-12-09 02:03:45.487924: I tensorflow/core/framework/local_rendezvous.cc:424] Local rendezvous recv item cancelled. Key hash: 15181037279408896171\n",
      "2024-12-09 02:03:45.488026: I tensorflow/core/framework/local_rendezvous.cc:424] Local rendezvous recv item cancelled. Key hash: 15570649574560941888\n"
     ]
    },
    {
     "name": "stdout",
     "output_type": "stream",
     "text": [
      "\n",
      "Epoch 4: val_accuracy improved from 0.94864 to 0.94947, saving model to best_model_transfer_A_to_P.keras\n",
      "\u001b[1m930/930\u001b[0m \u001b[32m━━━━━━━━━━━━━━━━━━━━\u001b[0m\u001b[37m\u001b[0m \u001b[1m165s\u001b[0m 177ms/step - accuracy: 0.9414 - loss: 0.1934 - val_accuracy: 0.9495 - val_loss: 0.1518 - learning_rate: 1.0000e-05\n",
      "Epoch 5/5\n",
      "\u001b[1m930/930\u001b[0m \u001b[32m━━━━━━━━━━━━━━━━━━━━\u001b[0m\u001b[37m\u001b[0m \u001b[1m0s\u001b[0m 176ms/step - accuracy: 0.9442 - loss: 0.1958\n",
      "Epoch 5: val_accuracy did not improve from 0.94947\n",
      "\u001b[1m930/930\u001b[0m \u001b[32m━━━━━━━━━━━━━━━━━━━━\u001b[0m\u001b[37m\u001b[0m \u001b[1m166s\u001b[0m 178ms/step - accuracy: 0.9442 - loss: 0.1958 - val_accuracy: 0.9462 - val_loss: 0.1530 - learning_rate: 1.0000e-05\n",
      "Restoring model weights from the end of the best epoch: 4.\n",
      "\u001b[1m153/153\u001b[0m \u001b[32m━━━━━━━━━━━━━━━━━━━━\u001b[0m\u001b[37m\u001b[0m \u001b[1m3s\u001b[0m 16ms/step\n",
      "Optimal Threshold: 0.48\n",
      "Confusion Matrix (Test Set A_to_P):\n",
      "[[2125   48]\n",
      " [  75  186]]\n",
      "\n",
      "Precision: 0.7949\n",
      "Recall:    0.7126\n",
      "\n",
      "Classification Report:\n",
      "              precision    recall  f1-score   support\n",
      "\n",
      "   Uncracked       0.97      0.98      0.97      2173\n",
      "     Cracked       0.79      0.71      0.75       261\n",
      "\n",
      "    accuracy                           0.95      2434\n",
      "   macro avg       0.88      0.85      0.86      2434\n",
      "weighted avg       0.95      0.95      0.95      2434\n",
      "\n"
     ]
    },
    {
     "data": {
      "image/png": "[encoded data removed]",
      "text/plain": [
       "<Figure size 600x500 with 2 Axes>"
      ]
     },
     "metadata": {},
     "output_type": "display_data"
    },
    {
     "data": {
      "image/png": "[encoded data removed]",
      "text/plain": [
       "<Figure size 640x480 with 1 Axes>"
      ]
     },
     "metadata": {},
     "output_type": "display_data"
    },
    {
     "name": "stdout",
     "output_type": "stream",
     "text": [
      "\n",
      "Training on set B and testing on set D\n",
      "Epoch 1/10\n",
      "     93/Unknown \u001b[1m18s\u001b[0m 179ms/step - accuracy: 0.8674 - loss: 0.6793"
     ]
    },
    {
     "name": "stderr",
     "output_type": "stream",
     "text": [
      "2024-12-09 02:06:55.776317: I tensorflow/core/framework/local_rendezvous.cc:424] Local rendezvous recv item cancelled. Key hash: 15570649574560941888\n",
      "/apps/software/standard/core/jupyterlab/3.6.3-py3.11/lib/python3.11/contextlib.py:155: UserWarning: Your input ran out of data; interrupting training. Make sure that your dataset or generator can generate at least `steps_per_epoch * epochs` batches. You may need to use the `.repeat()` function when building your dataset.\n",
      "  self.gen.throw(typ, value, traceback)\n"
     ]
    },
    {
     "name": "stdout",
     "output_type": "stream",
     "text": [
      "\n",
      "Epoch 1: val_accuracy improved from -inf to 0.90202, saving model to best_model_transfer_B_to_D.keras\n"
     ]
    },
    {
     "name": "stderr",
     "output_type": "stream",
     "text": [
      "2024-12-09 02:06:57.427454: I tensorflow/core/framework/local_rendezvous.cc:424] Local rendezvous recv item cancelled. Key hash: 15181037279408896171\n",
      "2024-12-09 02:06:57.427543: I tensorflow/core/framework/local_rendezvous.cc:424] Local rendezvous recv item cancelled. Key hash: 15570649574560941888\n"
     ]
    },
    {
     "name": "stdout",
     "output_type": "stream",
     "text": [
      "\u001b[1m93/93\u001b[0m \u001b[32m━━━━━━━━━━━━━━━━━━━━\u001b[0m\u001b[37m\u001b[0m \u001b[1m20s\u001b[0m 200ms/step - accuracy: 0.8674 - loss: 0.6781 - val_accuracy: 0.9020 - val_loss: 0.2893 - learning_rate: 5.0000e-04\n",
      "Epoch 2/10\n",
      "\u001b[1m93/93\u001b[0m \u001b[32m━━━━━━━━━━━━━━━━━━━━\u001b[0m\u001b[37m\u001b[0m \u001b[1m0s\u001b[0m 166ms/step - accuracy: 0.8823 - loss: 0.4377\n",
      "Epoch 2: val_accuracy did not improve from 0.90202\n",
      "\u001b[1m93/93\u001b[0m \u001b[32m━━━━━━━━━━━━━━━━━━━━\u001b[0m\u001b[37m\u001b[0m \u001b[1m17s\u001b[0m 177ms/step - accuracy: 0.8823 - loss: 0.4377 - val_accuracy: 0.9020 - val_loss: 0.2773 - learning_rate: 5.0000e-04\n",
      "Epoch 3/10\n"
     ]
    },
    {
     "name": "stderr",
     "output_type": "stream",
     "text": [
      "2024-12-09 02:07:14.216672: I tensorflow/core/framework/local_rendezvous.cc:424] Local rendezvous recv item cancelled. Key hash: 15181037279408896171\n",
      "2024-12-09 02:07:14.216761: I tensorflow/core/framework/local_rendezvous.cc:424] Local rendezvous recv item cancelled. Key hash: 15570649574560941888\n"
     ]
    },
    {
     "name": "stdout",
     "output_type": "stream",
     "text": [
      "\u001b[1m93/93\u001b[0m \u001b[32m━━━━━━━━━━━━━━━━━━━━\u001b[0m\u001b[37m\u001b[0m \u001b[1m0s\u001b[0m 165ms/step - accuracy: 0.8911 - loss: 0.3948\n",
      "Epoch 3: val_accuracy did not improve from 0.90202\n",
      "\n",
      "Epoch 3: ReduceLROnPlateau reducing learning rate to 0.0002500000118743628.\n",
      "\u001b[1m93/93\u001b[0m \u001b[32m━━━━━━━━━━━━━━━━━━━━\u001b[0m\u001b[37m\u001b[0m \u001b[1m18s\u001b[0m 198ms/step - accuracy: 0.8910 - loss: 0.3950 - val_accuracy: 0.9020 - val_loss: 0.2859 - learning_rate: 5.0000e-04\n",
      "Epoch 4/10\n"
     ]
    },
    {
     "name": "stderr",
     "output_type": "stream",
     "text": [
      "2024-12-09 02:07:32.705267: I tensorflow/core/framework/local_rendezvous.cc:424] Local rendezvous recv item cancelled. Key hash: 15181037279408896171\n",
      "2024-12-09 02:07:32.705364: I tensorflow/core/framework/local_rendezvous.cc:424] Local rendezvous recv item cancelled. Key hash: 15570649574560941888\n"
     ]
    },
    {
     "name": "stdout",
     "output_type": "stream",
     "text": [
      "\u001b[1m93/93\u001b[0m \u001b[32m━━━━━━━━━━━━━━━━━━━━\u001b[0m\u001b[37m\u001b[0m \u001b[1m0s\u001b[0m 167ms/step - accuracy: 0.8896 - loss: 0.3805\n",
      "Epoch 4: val_accuracy did not improve from 0.90202\n",
      "\u001b[1m93/93\u001b[0m \u001b[32m━━━━━━━━━━━━━━━━━━━━\u001b[0m\u001b[37m\u001b[0m \u001b[1m17s\u001b[0m 177ms/step - accuracy: 0.8895 - loss: 0.3806 - val_accuracy: 0.9020 - val_loss: 0.2898 - learning_rate: 2.5000e-04\n",
      "Epoch 4: early stopping\n",
      "Restoring model weights from the end of the best epoch: 1.\n",
      "Epoch 1/5\n"
     ]
    },
    {
     "name": "stderr",
     "output_type": "stream",
     "text": [
      "2024-12-09 02:07:49.264584: I tensorflow/core/framework/local_rendezvous.cc:424] Local rendezvous recv item cancelled. Key hash: 15181037279408896171\n",
      "2024-12-09 02:07:49.264685: I tensorflow/core/framework/local_rendezvous.cc:424] Local rendezvous recv item cancelled. Key hash: 15570649574560941888\n"
     ]
    },
    {
     "name": "stdout",
     "output_type": "stream",
     "text": [
      "     93/Unknown \u001b[1m23s\u001b[0m 215ms/step - accuracy: 0.8709 - loss: 0.3906\n",
      "Epoch 1: val_accuracy did not improve from 0.90202\n",
      "\u001b[1m93/93\u001b[0m \u001b[32m━━━━━━━━━━━━━━━━━━━━\u001b[0m\u001b[37m\u001b[0m \u001b[1m25s\u001b[0m 234ms/step - accuracy: 0.8711 - loss: 0.3904 - val_accuracy: 0.9020 - val_loss: 0.2513 - learning_rate: 1.0000e-05\n",
      "Epoch 2/5\n"
     ]
    },
    {
     "name": "stderr",
     "output_type": "stream",
     "text": [
      "2024-12-09 02:08:14.127501: I tensorflow/core/framework/local_rendezvous.cc:424] Local rendezvous recv item cancelled. Key hash: 15181037279408896171\n"
     ]
    },
    {
     "name": "stdout",
     "output_type": "stream",
     "text": [
      "\u001b[1m93/93\u001b[0m \u001b[32m━━━━━━━━━━━━━━━━━━━━\u001b[0m\u001b[37m\u001b[0m \u001b[1m0s\u001b[0m 177ms/step - accuracy: 0.8889 - loss: 0.3129\n",
      "Epoch 2: val_accuracy improved from 0.90202 to 0.93002, saving model to best_model_transfer_B_to_D.keras\n",
      "\u001b[1m93/93\u001b[0m \u001b[32m━━━━━━━━━━━━━━━━━━━━\u001b[0m\u001b[37m\u001b[0m \u001b[1m18s\u001b[0m 193ms/step - accuracy: 0.8890 - loss: 0.3130 - val_accuracy: 0.9300 - val_loss: 0.2188 - learning_rate: 1.0000e-05\n",
      "Epoch 3/5\n",
      "\u001b[1m93/93\u001b[0m \u001b[32m━━━━━━━━━━━━━━━━━━━━\u001b[0m\u001b[37m\u001b[0m \u001b[1m0s\u001b[0m 175ms/step - accuracy: 0.9076 - loss: 0.2993\n",
      "Epoch 3: val_accuracy did not improve from 0.93002\n",
      "\u001b[1m93/93\u001b[0m \u001b[32m━━━━━━━━━━━━━━━━━━━━\u001b[0m\u001b[37m\u001b[0m \u001b[1m17s\u001b[0m 187ms/step - accuracy: 0.9076 - loss: 0.2995 - val_accuracy: 0.9230 - val_loss: 0.2139 - learning_rate: 1.0000e-05\n",
      "Epoch 4/5\n"
     ]
    },
    {
     "name": "stderr",
     "output_type": "stream",
     "text": [
      "2024-12-09 02:08:49.649355: I tensorflow/core/framework/local_rendezvous.cc:424] Local rendezvous recv item cancelled. Key hash: 15181037279408896171\n",
      "2024-12-09 02:08:49.649473: I tensorflow/core/framework/local_rendezvous.cc:424] Local rendezvous recv item cancelled. Key hash: 15570649574560941888\n"
     ]
    },
    {
     "name": "stdout",
     "output_type": "stream",
     "text": [
      "\u001b[1m93/93\u001b[0m \u001b[32m━━━━━━━━━━━━━━━━━━━━\u001b[0m\u001b[37m\u001b[0m \u001b[1m0s\u001b[0m 176ms/step - accuracy: 0.9087 - loss: 0.3123\n",
      "Epoch 4: val_accuracy improved from 0.93002 to 0.93857, saving model to best_model_transfer_B_to_D.keras\n"
     ]
    },
    {
     "name": "stderr",
     "output_type": "stream",
     "text": [
      "2024-12-09 02:09:07.177334: I tensorflow/core/framework/local_rendezvous.cc:424] Local rendezvous recv item cancelled. Key hash: 15181037279408896171\n"
     ]
    },
    {
     "name": "stdout",
     "output_type": "stream",
     "text": [
      "\u001b[1m93/93\u001b[0m \u001b[32m━━━━━━━━━━━━━━━━━━━━\u001b[0m\u001b[37m\u001b[0m \u001b[1m18s\u001b[0m 193ms/step - accuracy: 0.9087 - loss: 0.3122 - val_accuracy: 0.9386 - val_loss: 0.2024 - learning_rate: 1.0000e-05\n",
      "Epoch 5/5\n",
      "\u001b[1m93/93\u001b[0m \u001b[32m━━━━━━━━━━━━━━━━━━━━\u001b[0m\u001b[37m\u001b[0m \u001b[1m0s\u001b[0m 175ms/step - accuracy: 0.9158 - loss: 0.2830\n",
      "Epoch 5: val_accuracy improved from 0.93857 to 0.94168, saving model to best_model_transfer_B_to_D.keras\n",
      "\u001b[1m93/93\u001b[0m \u001b[32m━━━━━━━━━━━━━━━━━━━━\u001b[0m\u001b[37m\u001b[0m \u001b[1m18s\u001b[0m 191ms/step - accuracy: 0.9158 - loss: 0.2829 - val_accuracy: 0.9417 - val_loss: 0.1991 - learning_rate: 1.0000e-05\n",
      "Restoring model weights from the end of the best epoch: 5.\n",
      "\u001b[1m81/81\u001b[0m \u001b[32m━━━━━━━━━━━━━━━━━━━━\u001b[0m\u001b[37m\u001b[0m \u001b[1m2s\u001b[0m 18ms/step\n",
      "Optimal Threshold: 0.06\n",
      "Confusion Matrix (Test Set B_to_D):\n",
      "[[1112   48]\n",
      " [  40   86]]\n",
      "\n",
      "Precision: 0.6418\n",
      "Recall:    0.6825\n",
      "\n",
      "Classification Report:\n",
      "              precision    recall  f1-score   support\n",
      "\n",
      "   Uncracked       0.97      0.96      0.96      1160\n",
      "     Cracked       0.64      0.68      0.66       126\n",
      "\n",
      "    accuracy                           0.93      1286\n",
      "   macro avg       0.80      0.82      0.81      1286\n",
      "weighted avg       0.93      0.93      0.93      1286\n",
      "\n"
     ]
    },
    {
     "data": {
      "image/png": "[encoded data removed]",
      "text/plain": [
       "<Figure size 600x500 with 2 Axes>"
      ]
     },
     "metadata": {},
     "output_type": "display_data"
    },
    {
     "data": {
      "image/png": "[encoded data removed]",
      "text/plain": [
       "<Figure size 640x480 with 1 Axes>"
      ]
     },
     "metadata": {},
     "output_type": "display_data"
    },
    {
     "name": "stdout",
     "output_type": "stream",
     "text": [
      "\n",
      "Training on set B and testing on set P\n",
      "Epoch 1/10\n",
      "     93/Unknown \u001b[1m17s\u001b[0m 165ms/step - accuracy: 0.7888 - loss: 1.0302"
     ]
    },
    {
     "name": "stderr",
     "output_type": "stream",
     "text": [
      "/apps/software/standard/core/jupyterlab/3.6.3-py3.11/lib/python3.11/contextlib.py:155: UserWarning: Your input ran out of data; interrupting training. Make sure that your dataset or generator can generate at least `steps_per_epoch * epochs` batches. You may need to use the `.repeat()` function when building your dataset.\n",
      "  self.gen.throw(typ, value, traceback)\n"
     ]
    },
    {
     "name": "stdout",
     "output_type": "stream",
     "text": [
      "\n",
      "Epoch 1: val_accuracy improved from -inf to 0.89277, saving model to best_model_transfer_B_to_P.keras\n"
     ]
    },
    {
     "name": "stderr",
     "output_type": "stream",
     "text": [
      "2024-12-09 02:09:47.822242: I tensorflow/core/framework/local_rendezvous.cc:424] Local rendezvous recv item cancelled. Key hash: 15181037279408896171\n",
      "2024-12-09 02:09:47.822335: I tensorflow/core/framework/local_rendezvous.cc:424] Local rendezvous recv item cancelled. Key hash: 15570649574560941888\n"
     ]
    },
    {
     "name": "stdout",
     "output_type": "stream",
     "text": [
      "\u001b[1m93/93\u001b[0m \u001b[32m━━━━━━━━━━━━━━━━━━━━\u001b[0m\u001b[37m\u001b[0m \u001b[1m20s\u001b[0m 199ms/step - accuracy: 0.7894 - loss: 1.0261 - val_accuracy: 0.8928 - val_loss: 0.3174 - learning_rate: 5.0000e-04\n",
      "Epoch 2/10\n",
      "\u001b[1m93/93\u001b[0m \u001b[32m━━━━━━━━━━━━━━━━━━━━\u001b[0m\u001b[37m\u001b[0m \u001b[1m0s\u001b[0m 167ms/step - accuracy: 0.8800 - loss: 0.4064"
     ]
    },
    {
     "name": "stderr",
     "output_type": "stream",
     "text": [
      "2024-12-09 02:10:04.069936: I tensorflow/core/framework/local_rendezvous.cc:424] Local rendezvous recv item cancelled. Key hash: 1118476411542817906\n",
      "2024-12-09 02:10:04.070053: I tensorflow/core/framework/local_rendezvous.cc:424] Local rendezvous recv item cancelled. Key hash: 15570649574560941888\n"
     ]
    },
    {
     "name": "stdout",
     "output_type": "stream",
     "text": [
      "\n",
      "Epoch 2: val_accuracy did not improve from 0.89277\n",
      "\u001b[1m93/93\u001b[0m \u001b[32m━━━━━━━━━━━━━━━━━━━━\u001b[0m\u001b[37m\u001b[0m \u001b[1m19s\u001b[0m 202ms/step - accuracy: 0.8801 - loss: 0.4065 - val_accuracy: 0.8928 - val_loss: 0.3690 - learning_rate: 5.0000e-04\n",
      "Epoch 3/10\n"
     ]
    },
    {
     "name": "stderr",
     "output_type": "stream",
     "text": [
      "2024-12-09 02:10:07.332010: I tensorflow/core/framework/local_rendezvous.cc:424] Local rendezvous recv item cancelled. Key hash: 15181037279408896171\n",
      "2024-12-09 02:10:07.332104: I tensorflow/core/framework/local_rendezvous.cc:424] Local rendezvous recv item cancelled. Key hash: 15570649574560941888\n"
     ]
    },
    {
     "name": "stdout",
     "output_type": "stream",
     "text": [
      "\u001b[1m93/93\u001b[0m \u001b[32m━━━━━━━━━━━━━━━━━━━━\u001b[0m\u001b[37m\u001b[0m \u001b[1m0s\u001b[0m 166ms/step - accuracy: 0.8822 - loss: 0.4044"
     ]
    },
    {
     "name": "stderr",
     "output_type": "stream",
     "text": [
      "2024-12-09 02:10:22.814735: I tensorflow/core/framework/local_rendezvous.cc:424] Local rendezvous recv item cancelled. Key hash: 15570649574560941888\n"
     ]
    },
    {
     "name": "stdout",
     "output_type": "stream",
     "text": [
      "\n",
      "Epoch 3: val_accuracy did not improve from 0.89277\n",
      "\n",
      "Epoch 3: ReduceLROnPlateau reducing learning rate to 0.0002500000118743628.\n",
      "\u001b[1m93/93\u001b[0m \u001b[32m━━━━━━━━━━━━━━━━━━━━\u001b[0m\u001b[37m\u001b[0m \u001b[1m17s\u001b[0m 188ms/step - accuracy: 0.8822 - loss: 0.4044 - val_accuracy: 0.8928 - val_loss: 0.2879 - learning_rate: 5.0000e-04\n",
      "Epoch 4/10\n"
     ]
    },
    {
     "name": "stderr",
     "output_type": "stream",
     "text": [
      "2024-12-09 02:10:24.828415: I tensorflow/core/framework/local_rendezvous.cc:424] Local rendezvous recv item cancelled. Key hash: 15181037279408896171\n",
      "2024-12-09 02:10:24.828509: I tensorflow/core/framework/local_rendezvous.cc:424] Local rendezvous recv item cancelled. Key hash: 15570649574560941888\n"
     ]
    },
    {
     "name": "stdout",
     "output_type": "stream",
     "text": [
      "\u001b[1m93/93\u001b[0m \u001b[32m━━━━━━━━━━━━━━━━━━━━\u001b[0m\u001b[37m\u001b[0m \u001b[1m0s\u001b[0m 166ms/step - accuracy: 0.8860 - loss: 0.3856\n",
      "Epoch 4: val_accuracy did not improve from 0.89277\n",
      "\u001b[1m93/93\u001b[0m \u001b[32m━━━━━━━━━━━━━━━━━━━━\u001b[0m\u001b[37m\u001b[0m \u001b[1m17s\u001b[0m 186ms/step - accuracy: 0.8860 - loss: 0.3855 - val_accuracy: 0.8928 - val_loss: 0.3011 - learning_rate: 2.5000e-04\n",
      "Epoch 4: early stopping\n",
      "Restoring model weights from the end of the best epoch: 1.\n",
      "Epoch 1/5\n",
      "     93/Unknown \u001b[1m21s\u001b[0m 190ms/step - accuracy: 0.8763 - loss: 0.3705"
     ]
    },
    {
     "name": "stderr",
     "output_type": "stream",
     "text": [
      "2024-12-09 02:11:03.067012: I tensorflow/core/framework/local_rendezvous.cc:424] Local rendezvous recv item cancelled. Key hash: 15181037279408896171\n",
      "2024-12-09 02:11:03.067113: I tensorflow/core/framework/local_rendezvous.cc:424] Local rendezvous recv item cancelled. Key hash: 15570649574560941888\n"
     ]
    },
    {
     "name": "stdout",
     "output_type": "stream",
     "text": [
      "\n",
      "Epoch 1: val_accuracy improved from 0.89277 to 0.90263, saving model to best_model_transfer_B_to_P.keras\n"
     ]
    },
    {
     "name": "stderr",
     "output_type": "stream",
     "text": [
      "2024-12-09 02:11:05.684506: I tensorflow/core/framework/local_rendezvous.cc:405] Local rendezvous is aborting with status: OUT_OF_RANGE: End of sequence\n",
      "\t [[{{node IteratorGetNext}}]]\n",
      "\t [[IteratorGetNext/_2]]\n"
     ]
    },
    {
     "name": "stdout",
     "output_type": "stream",
     "text": [
      "\u001b[1m93/93\u001b[0m \u001b[32m━━━━━━━━━━━━━━━━━━━━\u001b[0m\u001b[37m\u001b[0m \u001b[1m24s\u001b[0m 223ms/step - accuracy: 0.8765 - loss: 0.3701 - val_accuracy: 0.9026 - val_loss: 0.2597 - learning_rate: 1.0000e-05\n",
      "Epoch 2/5\n",
      "\u001b[1m93/93\u001b[0m \u001b[32m━━━━━━━━━━━━━━━━━━━━\u001b[0m\u001b[37m\u001b[0m \u001b[1m0s\u001b[0m 178ms/step - accuracy: 0.9140 - loss: 0.2832\n",
      "Epoch 2: val_accuracy improved from 0.90263 to 0.91701, saving model to best_model_transfer_B_to_P.keras\n",
      "\u001b[1m93/93\u001b[0m \u001b[32m━━━━━━━━━━━━━━━━━━━━\u001b[0m\u001b[37m\u001b[0m \u001b[1m19s\u001b[0m 203ms/step - accuracy: 0.9139 - loss: 0.2833 - val_accuracy: 0.9170 - val_loss: 0.2440 - learning_rate: 1.0000e-05\n",
      "Epoch 3/5\n",
      "\u001b[1m93/93\u001b[0m \u001b[32m━━━━━━━━━━━━━━━━━━━━\u001b[0m\u001b[37m\u001b[0m \u001b[1m0s\u001b[0m 175ms/step - accuracy: 0.9101 - loss: 0.2794"
     ]
    },
    {
     "name": "stderr",
     "output_type": "stream",
     "text": [
      "2024-12-09 02:11:41.377745: I tensorflow/core/framework/local_rendezvous.cc:424] Local rendezvous recv item cancelled. Key hash: 15181037279408896171\n",
      "2024-12-09 02:11:41.377817: I tensorflow/core/framework/local_rendezvous.cc:424] Local rendezvous recv item cancelled. Key hash: 15570649574560941888\n"
     ]
    },
    {
     "name": "stdout",
     "output_type": "stream",
     "text": [
      "\n",
      "Epoch 3: val_accuracy did not improve from 0.91701\n",
      "\u001b[1m93/93\u001b[0m \u001b[32m━━━━━━━━━━━━━━━━━━━━\u001b[0m\u001b[37m\u001b[0m \u001b[1m18s\u001b[0m 195ms/step - accuracy: 0.9101 - loss: 0.2794 - val_accuracy: 0.9071 - val_loss: 0.2588 - learning_rate: 1.0000e-05\n",
      "Epoch 4/5\n",
      "\u001b[1m93/93\u001b[0m \u001b[32m━━━━━━━━━━━━━━━━━━━━\u001b[0m\u001b[37m\u001b[0m \u001b[1m0s\u001b[0m 175ms/step - accuracy: 0.9383 - loss: 0.2531"
     ]
    },
    {
     "name": "stderr",
     "output_type": "stream",
     "text": [
      "2024-12-09 02:11:59.643046: I tensorflow/core/framework/local_rendezvous.cc:424] Local rendezvous recv item cancelled. Key hash: 15181037279408896171\n",
      "2024-12-09 02:11:59.643146: I tensorflow/core/framework/local_rendezvous.cc:424] Local rendezvous recv item cancelled. Key hash: 15570649574560941888\n"
     ]
    },
    {
     "name": "stdout",
     "output_type": "stream",
     "text": [
      "\n",
      "Epoch 4: val_accuracy did not improve from 0.91701\n",
      "\n",
      "Epoch 4: ReduceLROnPlateau reducing learning rate to 4.999999873689376e-06.\n",
      "\u001b[1m93/93\u001b[0m \u001b[32m━━━━━━━━━━━━━━━━━━━━\u001b[0m\u001b[37m\u001b[0m \u001b[1m18s\u001b[0m 196ms/step - accuracy: 0.9382 - loss: 0.2533 - val_accuracy: 0.9051 - val_loss: 0.2553 - learning_rate: 1.0000e-05\n",
      "Epoch 5/5\n"
     ]
    },
    {
     "name": "stderr",
     "output_type": "stream",
     "text": [
      "2024-12-09 02:12:01.570710: I tensorflow/core/framework/local_rendezvous.cc:424] Local rendezvous recv item cancelled. Key hash: 15181037279408896171\n"
     ]
    },
    {
     "name": "stdout",
     "output_type": "stream",
     "text": [
      "\u001b[1m93/93\u001b[0m \u001b[32m━━━━━━━━━━━━━━━━━━━━\u001b[0m\u001b[37m\u001b[0m \u001b[1m0s\u001b[0m 175ms/step - accuracy: 0.8994 - loss: 0.2857"
     ]
    },
    {
     "name": "stderr",
     "output_type": "stream",
     "text": [
      "2024-12-09 02:12:17.940608: I tensorflow/core/framework/local_rendezvous.cc:424] Local rendezvous recv item cancelled. Key hash: 15181037279408896171\n",
      "2024-12-09 02:12:17.940710: I tensorflow/core/framework/local_rendezvous.cc:424] Local rendezvous recv item cancelled. Key hash: 15570649574560941888\n"
     ]
    },
    {
     "name": "stdout",
     "output_type": "stream",
     "text": [
      "\n",
      "Epoch 5: val_accuracy improved from 0.91701 to 0.93221, saving model to best_model_transfer_B_to_P.keras\n",
      "\u001b[1m93/93\u001b[0m \u001b[32m━━━━━━━━━━━━━━━━━━━━\u001b[0m\u001b[37m\u001b[0m \u001b[1m19s\u001b[0m 199ms/step - accuracy: 0.8996 - loss: 0.2854 - val_accuracy: 0.9322 - val_loss: 0.2030 - learning_rate: 5.0000e-06\n",
      "Restoring model weights from the end of the best epoch: 5.\n",
      "\u001b[1m153/153\u001b[0m \u001b[32m━━━━━━━━━━━━━━━━━━━━\u001b[0m\u001b[37m\u001b[0m \u001b[1m3s\u001b[0m 16ms/step\n",
      "Optimal Threshold: 0.19\n",
      "Confusion Matrix (Test Set B_to_P):\n",
      "[[2088   85]\n",
      " [  94  167]]\n",
      "\n",
      "Precision: 0.6627\n",
      "Recall:    0.6398\n",
      "\n",
      "Classification Report:\n",
      "              precision    recall  f1-score   support\n",
      "\n",
      "   Uncracked       0.96      0.96      0.96      2173\n",
      "     Cracked       0.66      0.64      0.65       261\n",
      "\n",
      "    accuracy                           0.93      2434\n",
      "   macro avg       0.81      0.80      0.80      2434\n",
      "weighted avg       0.93      0.93      0.93      2434\n",
      "\n"
     ]
    },
    {
     "data": {
      "image/png": "[encoded data removed]",
      "text/plain": [
       "<Figure size 600x500 with 2 Axes>"
      ]
     },
     "metadata": {},
     "output_type": "display_data"
    },
    {
     "data": {
      "image/png": "[encoded data removed]",
      "text/plain": [
       "<Figure size 640x480 with 1 Axes>"
      ]
     },
     "metadata": {},
     "output_type": "display_data"
    },
    {
     "name": "stdout",
     "output_type": "stream",
     "text": [
      "\n",
      "Training on set C and testing on set D\n",
      "Epoch 1/10\n",
      "    322/Unknown \u001b[1m56s\u001b[0m 168ms/step - accuracy: 0.8797 - loss: 0.4640"
     ]
    },
    {
     "name": "stderr",
     "output_type": "stream",
     "text": [
      "2024-12-09 02:13:19.958550: I tensorflow/core/framework/local_rendezvous.cc:424] Local rendezvous recv item cancelled. Key hash: 15181037279408896171\n",
      "/apps/software/standard/core/jupyterlab/3.6.3-py3.11/lib/python3.11/contextlib.py:155: UserWarning: Your input ran out of data; interrupting training. Make sure that your dataset or generator can generate at least `steps_per_epoch * epochs` batches. You may need to use the `.repeat()` function when building your dataset.\n",
      "  self.gen.throw(typ, value, traceback)\n",
      "2024-12-09 02:13:19.958642: I tensorflow/core/framework/local_rendezvous.cc:424] Local rendezvous recv item cancelled. Key hash: 1118476411542817906\n",
      "2024-12-09 02:13:19.958653: I tensorflow/core/framework/local_rendezvous.cc:424] Local rendezvous recv item cancelled. Key hash: 15570649574560941888\n"
     ]
    },
    {
     "name": "stdout",
     "output_type": "stream",
     "text": [
      "\n",
      "Epoch 1: val_accuracy improved from -inf to 0.91680, saving model to best_model_transfer_C_to_D.keras\n"
     ]
    },
    {
     "name": "stderr",
     "output_type": "stream",
     "text": [
      "2024-12-09 02:13:21.607511: I tensorflow/core/framework/local_rendezvous.cc:424] Local rendezvous recv item cancelled. Key hash: 15570649574560941888\n"
     ]
    },
    {
     "name": "stdout",
     "output_type": "stream",
     "text": [
      "\u001b[1m322/322\u001b[0m \u001b[32m━━━━━━━━━━━━━━━━━━━━\u001b[0m\u001b[37m\u001b[0m \u001b[1m58s\u001b[0m 174ms/step - accuracy: 0.8797 - loss: 0.4637 - val_accuracy: 0.9168 - val_loss: 0.2937 - learning_rate: 5.0000e-04\n",
      "Epoch 2/10\n",
      "\u001b[1m322/322\u001b[0m \u001b[32m━━━━━━━━━━━━━━━━━━━━\u001b[0m\u001b[37m\u001b[0m \u001b[1m0s\u001b[0m 166ms/step - accuracy: 0.9166 - loss: 0.3263"
     ]
    },
    {
     "name": "stderr",
     "output_type": "stream",
     "text": [
      "2024-12-09 02:14:15.408305: I tensorflow/core/framework/local_rendezvous.cc:424] Local rendezvous recv item cancelled. Key hash: 1118476411542817906\n",
      "2024-12-09 02:14:15.408410: I tensorflow/core/framework/local_rendezvous.cc:424] Local rendezvous recv item cancelled. Key hash: 15570649574560941888\n"
     ]
    },
    {
     "name": "stdout",
     "output_type": "stream",
     "text": [
      "\n",
      "Epoch 2: val_accuracy improved from 0.91680 to 0.92691, saving model to best_model_transfer_C_to_D.keras\n"
     ]
    },
    {
     "name": "stderr",
     "output_type": "stream",
     "text": [
      "2024-12-09 02:14:16.575329: I tensorflow/core/framework/local_rendezvous.cc:424] Local rendezvous recv item cancelled. Key hash: 15181037279408896171\n",
      "2024-12-09 02:14:16.575414: I tensorflow/core/framework/local_rendezvous.cc:424] Local rendezvous recv item cancelled. Key hash: 15570649574560941888\n"
     ]
    },
    {
     "name": "stdout",
     "output_type": "stream",
     "text": [
      "\u001b[1m322/322\u001b[0m \u001b[32m━━━━━━━━━━━━━━━━━━━━\u001b[0m\u001b[37m\u001b[0m \u001b[1m55s\u001b[0m 170ms/step - accuracy: 0.9166 - loss: 0.3263 - val_accuracy: 0.9269 - val_loss: 0.2334 - learning_rate: 5.0000e-04\n",
      "Epoch 3/10\n",
      "\u001b[1m322/322\u001b[0m \u001b[32m━━━━━━━━━━━━━━━━━━━━\u001b[0m\u001b[37m\u001b[0m \u001b[1m0s\u001b[0m 166ms/step - accuracy: 0.9141 - loss: 0.3322"
     ]
    },
    {
     "name": "stderr",
     "output_type": "stream",
     "text": [
      "2024-12-09 02:15:10.296663: I tensorflow/core/framework/local_rendezvous.cc:424] Local rendezvous recv item cancelled. Key hash: 15181037279408896171\n",
      "2024-12-09 02:15:10.296762: I tensorflow/core/framework/local_rendezvous.cc:424] Local rendezvous recv item cancelled. Key hash: 1118476411542817906\n",
      "2024-12-09 02:15:10.296772: I tensorflow/core/framework/local_rendezvous.cc:424] Local rendezvous recv item cancelled. Key hash: 15570649574560941888\n"
     ]
    },
    {
     "name": "stdout",
     "output_type": "stream",
     "text": [
      "\n",
      "Epoch 3: val_accuracy improved from 0.92691 to 0.92924, saving model to best_model_transfer_C_to_D.keras\n"
     ]
    },
    {
     "name": "stderr",
     "output_type": "stream",
     "text": [
      "2024-12-09 02:15:11.313477: I tensorflow/core/framework/local_rendezvous.cc:424] Local rendezvous recv item cancelled. Key hash: 15570649574560941888\n"
     ]
    },
    {
     "name": "stdout",
     "output_type": "stream",
     "text": [
      "\u001b[1m322/322\u001b[0m \u001b[32m━━━━━━━━━━━━━━━━━━━━\u001b[0m\u001b[37m\u001b[0m \u001b[1m55s\u001b[0m 170ms/step - accuracy: 0.9141 - loss: 0.3321 - val_accuracy: 0.9292 - val_loss: 0.2134 - learning_rate: 5.0000e-04\n",
      "Epoch 4/10\n",
      "\u001b[1m322/322\u001b[0m \u001b[32m━━━━━━━━━━━━━━━━━━━━\u001b[0m\u001b[37m\u001b[0m \u001b[1m0s\u001b[0m 169ms/step - accuracy: 0.9208 - loss: 0.3132"
     ]
    },
    {
     "name": "stderr",
     "output_type": "stream",
     "text": [
      "2024-12-09 02:16:05.913365: I tensorflow/core/framework/local_rendezvous.cc:424] Local rendezvous recv item cancelled. Key hash: 15181037279408896171\n",
      "2024-12-09 02:16:05.913484: I tensorflow/core/framework/local_rendezvous.cc:424] Local rendezvous recv item cancelled. Key hash: 1118476411542817906\n",
      "2024-12-09 02:16:05.913494: I tensorflow/core/framework/local_rendezvous.cc:424] Local rendezvous recv item cancelled. Key hash: 15570649574560941888\n"
     ]
    },
    {
     "name": "stdout",
     "output_type": "stream",
     "text": [
      "\n",
      "Epoch 4: val_accuracy improved from 0.92924 to 0.93002, saving model to best_model_transfer_C_to_D.keras\n"
     ]
    },
    {
     "name": "stderr",
     "output_type": "stream",
     "text": [
      "2024-12-09 02:16:06.920911: I tensorflow/core/framework/local_rendezvous.cc:424] Local rendezvous recv item cancelled. Key hash: 15570649574560941888\n"
     ]
    },
    {
     "name": "stdout",
     "output_type": "stream",
     "text": [
      "\u001b[1m322/322\u001b[0m \u001b[32m━━━━━━━━━━━━━━━━━━━━\u001b[0m\u001b[37m\u001b[0m \u001b[1m56s\u001b[0m 173ms/step - accuracy: 0.9208 - loss: 0.3131 - val_accuracy: 0.9300 - val_loss: 0.2162 - learning_rate: 5.0000e-04\n",
      "Epoch 5/10\n",
      "\u001b[1m322/322\u001b[0m \u001b[32m━━━━━━━━━━━━━━━━━━━━\u001b[0m\u001b[37m\u001b[0m \u001b[1m0s\u001b[0m 166ms/step - accuracy: 0.9227 - loss: 0.2949\n",
      "Epoch 5: val_accuracy improved from 0.93002 to 0.93468, saving model to best_model_transfer_C_to_D.keras\n"
     ]
    },
    {
     "name": "stderr",
     "output_type": "stream",
     "text": [
      "2024-12-09 02:17:01.775256: I tensorflow/core/framework/local_rendezvous.cc:424] Local rendezvous recv item cancelled. Key hash: 15570649574560941888\n"
     ]
    },
    {
     "name": "stdout",
     "output_type": "stream",
     "text": [
      "\u001b[1m322/322\u001b[0m \u001b[32m━━━━━━━━━━━━━━━━━━━━\u001b[0m\u001b[37m\u001b[0m \u001b[1m55s\u001b[0m 170ms/step - accuracy: 0.9227 - loss: 0.2949 - val_accuracy: 0.9347 - val_loss: 0.2049 - learning_rate: 5.0000e-04\n",
      "Epoch 6/10\n",
      "\u001b[1m322/322\u001b[0m \u001b[32m━━━━━━━━━━━━━━━━━━━━\u001b[0m\u001b[37m\u001b[0m \u001b[1m0s\u001b[0m 165ms/step - accuracy: 0.9219 - loss: 0.3110"
     ]
    },
    {
     "name": "stderr",
     "output_type": "stream",
     "text": [
      "2024-12-09 02:17:55.217418: I tensorflow/core/framework/local_rendezvous.cc:424] Local rendezvous recv item cancelled. Key hash: 15570649574560941888\n"
     ]
    },
    {
     "name": "stdout",
     "output_type": "stream",
     "text": [
      "\n",
      "Epoch 6: val_accuracy did not improve from 0.93468\n",
      "\u001b[1m322/322\u001b[0m \u001b[32m━━━━━━━━━━━━━━━━━━━━\u001b[0m\u001b[37m\u001b[0m \u001b[1m54s\u001b[0m 168ms/step - accuracy: 0.9219 - loss: 0.3110 - val_accuracy: 0.9316 - val_loss: 0.2080 - learning_rate: 5.0000e-04\n",
      "Epoch 7/10\n"
     ]
    },
    {
     "name": "stderr",
     "output_type": "stream",
     "text": [
      "2024-12-09 02:17:56.323423: I tensorflow/core/framework/local_rendezvous.cc:424] Local rendezvous recv item cancelled. Key hash: 15570649574560941888\n"
     ]
    },
    {
     "name": "stdout",
     "output_type": "stream",
     "text": [
      "\u001b[1m322/322\u001b[0m \u001b[32m━━━━━━━━━━━━━━━━━━━━\u001b[0m\u001b[37m\u001b[0m \u001b[1m0s\u001b[0m 168ms/step - accuracy: 0.9222 - loss: 0.3041\n",
      "Epoch 7: val_accuracy did not improve from 0.93468\n",
      "\n",
      "Epoch 7: ReduceLROnPlateau reducing learning rate to 0.0002500000118743628.\n",
      "\u001b[1m322/322\u001b[0m \u001b[32m━━━━━━━━━━━━━━━━━━━━\u001b[0m\u001b[37m\u001b[0m \u001b[1m55s\u001b[0m 171ms/step - accuracy: 0.9222 - loss: 0.3041 - val_accuracy: 0.9339 - val_loss: 0.2052 - learning_rate: 5.0000e-04\n",
      "Epoch 8/10\n",
      "\u001b[1m322/322\u001b[0m \u001b[32m━━━━━━━━━━━━━━━━━━━━\u001b[0m\u001b[37m\u001b[0m \u001b[1m0s\u001b[0m 166ms/step - accuracy: 0.9279 - loss: 0.2609"
     ]
    },
    {
     "name": "stderr",
     "output_type": "stream",
     "text": [
      "2024-12-09 02:19:45.139377: I tensorflow/core/framework/local_rendezvous.cc:424] Local rendezvous recv item cancelled. Key hash: 15570649574560941888\n"
     ]
    },
    {
     "name": "stdout",
     "output_type": "stream",
     "text": [
      "\n",
      "Epoch 8: val_accuracy improved from 0.93468 to 0.93779, saving model to best_model_transfer_C_to_D.keras\n"
     ]
    },
    {
     "name": "stderr",
     "output_type": "stream",
     "text": [
      "2024-12-09 02:19:46.239573: I tensorflow/core/framework/local_rendezvous.cc:424] Local rendezvous recv item cancelled. Key hash: 15570649574560941888\n"
     ]
    },
    {
     "name": "stdout",
     "output_type": "stream",
     "text": [
      "\u001b[1m322/322\u001b[0m \u001b[32m━━━━━━━━━━━━━━━━━━━━\u001b[0m\u001b[37m\u001b[0m \u001b[1m55s\u001b[0m 170ms/step - accuracy: 0.9279 - loss: 0.2609 - val_accuracy: 0.9378 - val_loss: 0.1923 - learning_rate: 2.5000e-04\n",
      "Epoch 9/10\n",
      "\u001b[1m322/322\u001b[0m \u001b[32m━━━━━━━━━━━━━━━━━━━━\u001b[0m\u001b[37m\u001b[0m \u001b[1m0s\u001b[0m 166ms/step - accuracy: 0.9280 - loss: 0.2647\n",
      "Epoch 9: val_accuracy improved from 0.93779 to 0.94090, saving model to best_model_transfer_C_to_D.keras\n"
     ]
    },
    {
     "name": "stderr",
     "output_type": "stream",
     "text": [
      "2024-12-09 02:20:41.268093: I tensorflow/core/framework/local_rendezvous.cc:424] Local rendezvous recv item cancelled. Key hash: 15570649574560941888\n"
     ]
    },
    {
     "name": "stdout",
     "output_type": "stream",
     "text": [
      "\u001b[1m322/322\u001b[0m \u001b[32m━━━━━━━━━━━━━━━━━━━━\u001b[0m\u001b[37m\u001b[0m \u001b[1m55s\u001b[0m 171ms/step - accuracy: 0.9280 - loss: 0.2647 - val_accuracy: 0.9409 - val_loss: 0.1852 - learning_rate: 2.5000e-04\n",
      "Epoch 10/10\n",
      "\u001b[1m322/322\u001b[0m \u001b[32m━━━━━━━━━━━━━━━━━━━━\u001b[0m\u001b[37m\u001b[0m \u001b[1m0s\u001b[0m 168ms/step - accuracy: 0.9306 - loss: 0.2545\n",
      "Epoch 10: val_accuracy did not improve from 0.94090\n",
      "\u001b[1m322/322\u001b[0m \u001b[32m━━━━━━━━━━━━━━━━━━━━\u001b[0m\u001b[37m\u001b[0m \u001b[1m55s\u001b[0m 172ms/step - accuracy: 0.9306 - loss: 0.2545 - val_accuracy: 0.9386 - val_loss: 0.1818 - learning_rate: 2.5000e-04\n",
      "Restoring model weights from the end of the best epoch: 9.\n",
      "Epoch 1/5\n",
      "    322/Unknown \u001b[1m63s\u001b[0m 185ms/step - accuracy: 0.9354 - loss: 0.2401"
     ]
    },
    {
     "name": "stderr",
     "output_type": "stream",
     "text": [
      "2024-12-09 02:22:39.761721: I tensorflow/core/framework/local_rendezvous.cc:424] Local rendezvous recv item cancelled. Key hash: 15181037279408896171\n"
     ]
    },
    {
     "name": "stdout",
     "output_type": "stream",
     "text": [
      "\n",
      "Epoch 1: val_accuracy improved from 0.94090 to 0.95412, saving model to best_model_transfer_C_to_D.keras\n"
     ]
    },
    {
     "name": "stderr",
     "output_type": "stream",
     "text": [
      "2024-12-09 02:22:41.414304: I tensorflow/core/framework/local_rendezvous.cc:424] Local rendezvous recv item cancelled. Key hash: 15181037279408896171\n",
      "2024-12-09 02:22:41.414411: I tensorflow/core/framework/local_rendezvous.cc:424] Local rendezvous recv item cancelled. Key hash: 15570649574560941888\n"
     ]
    },
    {
     "name": "stdout",
     "output_type": "stream",
     "text": [
      "\u001b[1m322/322\u001b[0m \u001b[32m━━━━━━━━━━━━━━━━━━━━\u001b[0m\u001b[37m\u001b[0m \u001b[1m65s\u001b[0m 192ms/step - accuracy: 0.9354 - loss: 0.2400 - val_accuracy: 0.9541 - val_loss: 0.1369 - learning_rate: 1.0000e-05\n",
      "Epoch 2/5\n",
      "\u001b[1m322/322\u001b[0m \u001b[32m━━━━━━━━━━━━━━━━━━━━\u001b[0m\u001b[37m\u001b[0m \u001b[1m0s\u001b[0m 178ms/step - accuracy: 0.9362 - loss: 0.2076\n",
      "Epoch 2: val_accuracy improved from 0.95412 to 0.95801, saving model to best_model_transfer_C_to_D.keras\n"
     ]
    },
    {
     "name": "stderr",
     "output_type": "stream",
     "text": [
      "2024-12-09 02:23:40.100459: I tensorflow/core/framework/local_rendezvous.cc:424] Local rendezvous recv item cancelled. Key hash: 15181037279408896171\n"
     ]
    },
    {
     "name": "stdout",
     "output_type": "stream",
     "text": [
      "\u001b[1m322/322\u001b[0m \u001b[32m━━━━━━━━━━━━━━━━━━━━\u001b[0m\u001b[37m\u001b[0m \u001b[1m59s\u001b[0m 182ms/step - accuracy: 0.9363 - loss: 0.2075 - val_accuracy: 0.9580 - val_loss: 0.1248 - learning_rate: 1.0000e-05\n",
      "Epoch 3/5\n",
      "\u001b[1m322/322\u001b[0m \u001b[32m━━━━━━━━━━━━━━━━━━━━\u001b[0m\u001b[37m\u001b[0m \u001b[1m0s\u001b[0m 177ms/step - accuracy: 0.9416 - loss: 0.2089\n",
      "Epoch 3: val_accuracy improved from 0.95801 to 0.96034, saving model to best_model_transfer_C_to_D.keras\n"
     ]
    },
    {
     "name": "stderr",
     "output_type": "stream",
     "text": [
      "2024-12-09 02:24:38.754945: I tensorflow/core/framework/local_rendezvous.cc:424] Local rendezvous recv item cancelled. Key hash: 15181037279408896171\n",
      "2024-12-09 02:24:38.755052: I tensorflow/core/framework/local_rendezvous.cc:424] Local rendezvous recv item cancelled. Key hash: 15570649574560941888\n"
     ]
    },
    {
     "name": "stdout",
     "output_type": "stream",
     "text": [
      "\u001b[1m322/322\u001b[0m \u001b[32m━━━━━━━━━━━━━━━━━━━━\u001b[0m\u001b[37m\u001b[0m \u001b[1m59s\u001b[0m 182ms/step - accuracy: 0.9416 - loss: 0.2089 - val_accuracy: 0.9603 - val_loss: 0.1120 - learning_rate: 1.0000e-05\n",
      "Epoch 4/5\n",
      "\u001b[1m322/322\u001b[0m \u001b[32m━━━━━━━━━━━━━━━━━━━━\u001b[0m\u001b[37m\u001b[0m \u001b[1m0s\u001b[0m 177ms/step - accuracy: 0.9480 - loss: 0.1888\n",
      "Epoch 4: val_accuracy improved from 0.96034 to 0.96501, saving model to best_model_transfer_C_to_D.keras\n"
     ]
    },
    {
     "name": "stderr",
     "output_type": "stream",
     "text": [
      "2024-12-09 02:25:37.405546: I tensorflow/core/framework/local_rendezvous.cc:424] Local rendezvous recv item cancelled. Key hash: 15181037279408896171\n",
      "2024-12-09 02:25:37.405642: I tensorflow/core/framework/local_rendezvous.cc:424] Local rendezvous recv item cancelled. Key hash: 15570649574560941888\n"
     ]
    },
    {
     "name": "stdout",
     "output_type": "stream",
     "text": [
      "\u001b[1m322/322\u001b[0m \u001b[32m━━━━━━━━━━━━━━━━━━━━\u001b[0m\u001b[37m\u001b[0m \u001b[1m59s\u001b[0m 182ms/step - accuracy: 0.9480 - loss: 0.1888 - val_accuracy: 0.9650 - val_loss: 0.1049 - learning_rate: 1.0000e-05\n",
      "Epoch 5/5\n",
      "\u001b[1m322/322\u001b[0m \u001b[32m━━━━━━━━━━━━━━━━━━━━\u001b[0m\u001b[37m\u001b[0m \u001b[1m0s\u001b[0m 177ms/step - accuracy: 0.9526 - loss: 0.1716\n",
      "Epoch 5: val_accuracy improved from 0.96501 to 0.96656, saving model to best_model_transfer_C_to_D.keras\n"
     ]
    },
    {
     "name": "stderr",
     "output_type": "stream",
     "text": [
      "2024-12-09 02:26:36.000281: I tensorflow/core/framework/local_rendezvous.cc:424] Local rendezvous recv item cancelled. Key hash: 15181037279408896171\n",
      "2024-12-09 02:26:36.000378: I tensorflow/core/framework/local_rendezvous.cc:424] Local rendezvous recv item cancelled. Key hash: 15570649574560941888\n"
     ]
    },
    {
     "name": "stdout",
     "output_type": "stream",
     "text": [
      "\u001b[1m322/322\u001b[0m \u001b[32m━━━━━━━━━━━━━━━━━━━━\u001b[0m\u001b[37m\u001b[0m \u001b[1m59s\u001b[0m 182ms/step - accuracy: 0.9525 - loss: 0.1716 - val_accuracy: 0.9666 - val_loss: 0.1033 - learning_rate: 1.0000e-05\n",
      "Restoring model weights from the end of the best epoch: 5.\n",
      "\u001b[1m81/81\u001b[0m \u001b[32m━━━━━━━━━━━━━━━━━━━━\u001b[0m\u001b[37m\u001b[0m \u001b[1m2s\u001b[0m 18ms/step\n",
      "Optimal Threshold: 0.36\n",
      "Confusion Matrix (Test Set C_to_D):\n",
      "[[1153    7]\n",
      " [  34   92]]\n",
      "\n",
      "Precision: 0.9293\n",
      "Recall:    0.7302\n",
      "\n",
      "Classification Report:\n",
      "              precision    recall  f1-score   support\n",
      "\n",
      "   Uncracked       0.97      0.99      0.98      1160\n",
      "     Cracked       0.93      0.73      0.82       126\n",
      "\n",
      "    accuracy                           0.97      1286\n",
      "   macro avg       0.95      0.86      0.90      1286\n",
      "weighted avg       0.97      0.97      0.97      1286\n",
      "\n"
     ]
    },
    {
     "data": {
      "image/png": "[encoded data removed]",
      "text/plain": [
       "<Figure size 600x500 with 2 Axes>"
      ]
     },
     "metadata": {},
     "output_type": "display_data"
    },
    {
     "data": {
      "image/png": "[encoded data removed]",
      "text/plain": [
       "<Figure size 640x480 with 1 Axes>"
      ]
     },
     "metadata": {},
     "output_type": "display_data"
    },
    {
     "name": "stdout",
     "output_type": "stream",
     "text": [
      "\n",
      "Training on set C and testing on set P\n",
      "Epoch 1/10\n",
      "    322/Unknown \u001b[1m55s\u001b[0m 167ms/step - accuracy: 0.8919 - loss: 0.4325"
     ]
    },
    {
     "name": "stderr",
     "output_type": "stream",
     "text": [
      "2024-12-09 02:27:34.686524: I tensorflow/core/framework/local_rendezvous.cc:424] Local rendezvous recv item cancelled. Key hash: 15181037279408896171\n",
      "/apps/software/standard/core/jupyterlab/3.6.3-py3.11/lib/python3.11/contextlib.py:155: UserWarning: Your input ran out of data; interrupting training. Make sure that your dataset or generator can generate at least `steps_per_epoch * epochs` batches. You may need to use the `.repeat()` function when building your dataset.\n",
      "  self.gen.throw(typ, value, traceback)\n",
      "2024-12-09 02:27:34.686610: I tensorflow/core/framework/local_rendezvous.cc:424] Local rendezvous recv item cancelled. Key hash: 1118476411542817906\n",
      "2024-12-09 02:27:34.686621: I tensorflow/core/framework/local_rendezvous.cc:424] Local rendezvous recv item cancelled. Key hash: 15570649574560941888\n"
     ]
    },
    {
     "name": "stdout",
     "output_type": "stream",
     "text": [
      "\n",
      "Epoch 1: val_accuracy improved from -inf to 0.89688, saving model to best_model_transfer_C_to_P.keras\n"
     ]
    },
    {
     "name": "stderr",
     "output_type": "stream",
     "text": [
      "2024-12-09 02:27:37.301909: I tensorflow/core/framework/local_rendezvous.cc:424] Local rendezvous recv item cancelled. Key hash: 15181037279408896171\n",
      "2024-12-09 02:27:37.302011: I tensorflow/core/framework/local_rendezvous.cc:424] Local rendezvous recv item cancelled. Key hash: 15570649574560941888\n"
     ]
    },
    {
     "name": "stdout",
     "output_type": "stream",
     "text": [
      "\u001b[1m322/322\u001b[0m \u001b[32m━━━━━━━━━━━━━━━━━━━━\u001b[0m\u001b[37m\u001b[0m \u001b[1m58s\u001b[0m 176ms/step - accuracy: 0.8919 - loss: 0.4323 - val_accuracy: 0.8969 - val_loss: 0.3491 - learning_rate: 5.0000e-04\n",
      "Epoch 2/10\n",
      "\u001b[1m322/322\u001b[0m \u001b[32m━━━━━━━━━━━━━━━━━━━━\u001b[0m\u001b[37m\u001b[0m \u001b[1m0s\u001b[0m 166ms/step - accuracy: 0.9024 - loss: 0.3272\n",
      "Epoch 2: val_accuracy improved from 0.89688 to 0.89729, saving model to best_model_transfer_C_to_P.keras\n"
     ]
    },
    {
     "name": "stderr",
     "output_type": "stream",
     "text": [
      "2024-12-09 02:28:33.164102: I tensorflow/core/framework/local_rendezvous.cc:424] Local rendezvous recv item cancelled. Key hash: 15181037279408896171\n",
      "2024-12-09 02:28:33.164196: I tensorflow/core/framework/local_rendezvous.cc:424] Local rendezvous recv item cancelled. Key hash: 15570649574560941888\n"
     ]
    },
    {
     "name": "stdout",
     "output_type": "stream",
     "text": [
      "\u001b[1m322/322\u001b[0m \u001b[32m━━━━━━━━━━━━━━━━━━━━\u001b[0m\u001b[37m\u001b[0m \u001b[1m56s\u001b[0m 173ms/step - accuracy: 0.9024 - loss: 0.3272 - val_accuracy: 0.8973 - val_loss: 0.2966 - learning_rate: 5.0000e-04\n",
      "Epoch 3/10\n",
      "\u001b[1m322/322\u001b[0m \u001b[32m━━━━━━━━━━━━━━━━━━━━\u001b[0m\u001b[37m\u001b[0m \u001b[1m0s\u001b[0m 166ms/step - accuracy: 0.9121 - loss: 0.3348\n",
      "Epoch 3: val_accuracy did not improve from 0.89729\n",
      "\u001b[1m322/322\u001b[0m \u001b[32m━━━━━━━━━━━━━━━━━━━━\u001b[0m\u001b[37m\u001b[0m \u001b[1m56s\u001b[0m 172ms/step - accuracy: 0.9121 - loss: 0.3348 - val_accuracy: 0.8952 - val_loss: 0.3416 - learning_rate: 5.0000e-04\n",
      "Epoch 4/10\n"
     ]
    },
    {
     "name": "stderr",
     "output_type": "stream",
     "text": [
      "2024-12-09 02:29:29.010303: I tensorflow/core/framework/local_rendezvous.cc:424] Local rendezvous recv item cancelled. Key hash: 15181037279408896171\n",
      "2024-12-09 02:29:29.010378: I tensorflow/core/framework/local_rendezvous.cc:424] Local rendezvous recv item cancelled. Key hash: 15570649574560941888\n"
     ]
    },
    {
     "name": "stdout",
     "output_type": "stream",
     "text": [
      "\u001b[1m322/322\u001b[0m \u001b[32m━━━━━━━━━━━━━━━━━━━━\u001b[0m\u001b[37m\u001b[0m \u001b[1m0s\u001b[0m 166ms/step - accuracy: 0.9055 - loss: 0.3195\n",
      "Epoch 4: val_accuracy improved from 0.89729 to 0.90427, saving model to best_model_transfer_C_to_P.keras\n"
     ]
    },
    {
     "name": "stderr",
     "output_type": "stream",
     "text": [
      "2024-12-09 02:30:24.522078: I tensorflow/core/framework/local_rendezvous.cc:424] Local rendezvous recv item cancelled. Key hash: 15181037279408896171\n",
      "2024-12-09 02:30:24.522172: I tensorflow/core/framework/local_rendezvous.cc:424] Local rendezvous recv item cancelled. Key hash: 15570649574560941888\n"
     ]
    },
    {
     "name": "stdout",
     "output_type": "stream",
     "text": [
      "\u001b[1m322/322\u001b[0m \u001b[32m━━━━━━━━━━━━━━━━━━━━\u001b[0m\u001b[37m\u001b[0m \u001b[1m56s\u001b[0m 173ms/step - accuracy: 0.9055 - loss: 0.3195 - val_accuracy: 0.9043 - val_loss: 0.3093 - learning_rate: 5.0000e-04\n",
      "Epoch 5/10\n",
      "\u001b[1m322/322\u001b[0m \u001b[32m━━━━━━━━━━━━━━━━━━━━\u001b[0m\u001b[37m\u001b[0m \u001b[1m0s\u001b[0m 166ms/step - accuracy: 0.9249 - loss: 0.2701\n",
      "Epoch 5: val_accuracy did not improve from 0.90427\n",
      "\u001b[1m322/322\u001b[0m \u001b[32m━━━━━━━━━━━━━━━━━━━━\u001b[0m\u001b[37m\u001b[0m \u001b[1m56s\u001b[0m 173ms/step - accuracy: 0.9249 - loss: 0.2702 - val_accuracy: 0.8981 - val_loss: 0.3700 - learning_rate: 5.0000e-04\n",
      "Epoch 6/10\n"
     ]
    },
    {
     "name": "stderr",
     "output_type": "stream",
     "text": [
      "2024-12-09 02:31:20.411244: I tensorflow/core/framework/local_rendezvous.cc:424] Local rendezvous recv item cancelled. Key hash: 15181037279408896171\n",
      "2024-12-09 02:31:20.411333: I tensorflow/core/framework/local_rendezvous.cc:424] Local rendezvous recv item cancelled. Key hash: 15570649574560941888\n"
     ]
    },
    {
     "name": "stdout",
     "output_type": "stream",
     "text": [
      "\u001b[1m322/322\u001b[0m \u001b[32m━━━━━━━━━━━━━━━━━━━━\u001b[0m\u001b[37m\u001b[0m \u001b[1m0s\u001b[0m 166ms/step - accuracy: 0.9174 - loss: 0.3068"
     ]
    },
    {
     "name": "stderr",
     "output_type": "stream",
     "text": [
      "2024-12-09 02:32:14.076257: I tensorflow/core/framework/local_rendezvous.cc:424] Local rendezvous recv item cancelled. Key hash: 15181037279408896171\n"
     ]
    },
    {
     "name": "stdout",
     "output_type": "stream",
     "text": [
      "\n",
      "Epoch 6: val_accuracy did not improve from 0.90427\n",
      "\n",
      "Epoch 6: ReduceLROnPlateau reducing learning rate to 0.0002500000118743628.\n",
      "\u001b[1m322/322\u001b[0m \u001b[32m━━━━━━━━━━━━━━━━━━━━\u001b[0m\u001b[37m\u001b[0m \u001b[1m56s\u001b[0m 173ms/step - accuracy: 0.9174 - loss: 0.3068 - val_accuracy: 0.9010 - val_loss: 0.3416 - learning_rate: 5.0000e-04\n",
      "Epoch 7/10\n"
     ]
    },
    {
     "name": "stderr",
     "output_type": "stream",
     "text": [
      "2024-12-09 02:32:16.030458: I tensorflow/core/framework/local_rendezvous.cc:424] Local rendezvous recv item cancelled. Key hash: 15181037279408896171\n",
      "2024-12-09 02:32:16.030536: I tensorflow/core/framework/local_rendezvous.cc:424] Local rendezvous recv item cancelled. Key hash: 15570649574560941888\n"
     ]
    },
    {
     "name": "stdout",
     "output_type": "stream",
     "text": [
      "\u001b[1m322/322\u001b[0m \u001b[32m━━━━━━━━━━━━━━━━━━━━\u001b[0m\u001b[37m\u001b[0m \u001b[1m0s\u001b[0m 167ms/step - accuracy: 0.9193 - loss: 0.2751\n",
      "Epoch 7: val_accuracy did not improve from 0.90427\n",
      "\u001b[1m322/322\u001b[0m \u001b[32m━━━━━━━━━━━━━━━━━━━━\u001b[0m\u001b[37m\u001b[0m \u001b[1m58s\u001b[0m 173ms/step - accuracy: 0.9193 - loss: 0.2752 - val_accuracy: 0.8998 - val_loss: 0.3710 - learning_rate: 2.5000e-04\n",
      "Epoch 7: early stopping\n",
      "Restoring model weights from the end of the best epoch: 4.\n",
      "Epoch 1/5\n"
     ]
    },
    {
     "name": "stderr",
     "output_type": "stream",
     "text": [
      "2024-12-09 02:33:13.639882: I tensorflow/core/framework/local_rendezvous.cc:424] Local rendezvous recv item cancelled. Key hash: 15181037279408896171\n"
     ]
    },
    {
     "name": "stdout",
     "output_type": "stream",
     "text": [
      "    322/Unknown \u001b[1m62s\u001b[0m 182ms/step - accuracy: 0.9184 - loss: 0.2517"
     ]
    },
    {
     "name": "stderr",
     "output_type": "stream",
     "text": [
      "2024-12-09 02:34:15.810769: I tensorflow/core/framework/local_rendezvous.cc:424] Local rendezvous recv item cancelled. Key hash: 15570649574560941888\n"
     ]
    },
    {
     "name": "stdout",
     "output_type": "stream",
     "text": [
      "\n",
      "Epoch 1: val_accuracy improved from 0.90427 to 0.91044, saving model to best_model_transfer_C_to_P.keras\n",
      "\u001b[1m322/322\u001b[0m \u001b[32m━━━━━━━━━━━━━━━━━━━━\u001b[0m\u001b[37m\u001b[0m \u001b[1m65s\u001b[0m 191ms/step - accuracy: 0.9184 - loss: 0.2516 - val_accuracy: 0.9104 - val_loss: 0.5922 - learning_rate: 1.0000e-05\n",
      "Epoch 2/5\n",
      "\u001b[1m322/322\u001b[0m \u001b[32m━━━━━━━━━━━━━━━━━━━━\u001b[0m\u001b[37m\u001b[0m \u001b[1m0s\u001b[0m 177ms/step - accuracy: 0.9290 - loss: 0.2034"
     ]
    },
    {
     "name": "stderr",
     "output_type": "stream",
     "text": [
      "2024-12-09 02:35:15.961976: I tensorflow/core/framework/local_rendezvous.cc:424] Local rendezvous recv item cancelled. Key hash: 15570649574560941888\n"
     ]
    },
    {
     "name": "stdout",
     "output_type": "stream",
     "text": [
      "\n",
      "Epoch 2: val_accuracy improved from 0.91044 to 0.91660, saving model to best_model_transfer_C_to_P.keras\n"
     ]
    },
    {
     "name": "stderr",
     "output_type": "stream",
     "text": [
      "2024-12-09 02:35:17.782541: I tensorflow/core/framework/local_rendezvous.cc:424] Local rendezvous recv item cancelled. Key hash: 15181037279408896171\n",
      "2024-12-09 02:35:17.782641: I tensorflow/core/framework/local_rendezvous.cc:424] Local rendezvous recv item cancelled. Key hash: 15570649574560941888\n"
     ]
    },
    {
     "name": "stdout",
     "output_type": "stream",
     "text": [
      "\u001b[1m322/322\u001b[0m \u001b[32m━━━━━━━━━━━━━━━━━━━━\u001b[0m\u001b[37m\u001b[0m \u001b[1m59s\u001b[0m 184ms/step - accuracy: 0.9290 - loss: 0.2034 - val_accuracy: 0.9166 - val_loss: 0.3304 - learning_rate: 1.0000e-05\n",
      "Epoch 3/5\n",
      "\u001b[1m322/322\u001b[0m \u001b[32m━━━━━━━━━━━━━━━━━━━━\u001b[0m\u001b[37m\u001b[0m \u001b[1m0s\u001b[0m 177ms/step - accuracy: 0.9325 - loss: 0.2124"
     ]
    },
    {
     "name": "stderr",
     "output_type": "stream",
     "text": [
      "2024-12-09 02:36:15.393611: I tensorflow/core/framework/local_rendezvous.cc:424] Local rendezvous recv item cancelled. Key hash: 15570649574560941888\n"
     ]
    },
    {
     "name": "stdout",
     "output_type": "stream",
     "text": [
      "\n",
      "Epoch 3: val_accuracy did not improve from 0.91660\n",
      "\u001b[1m322/322\u001b[0m \u001b[32m━━━━━━━━━━━━━━━━━━━━\u001b[0m\u001b[37m\u001b[0m \u001b[1m59s\u001b[0m 184ms/step - accuracy: 0.9325 - loss: 0.2124 - val_accuracy: 0.9100 - val_loss: 0.6834 - learning_rate: 1.0000e-05\n",
      "Epoch 4/5\n",
      "\u001b[1m322/322\u001b[0m \u001b[32m━━━━━━━━━━━━━━━━━━━━\u001b[0m\u001b[37m\u001b[0m \u001b[1m0s\u001b[0m 178ms/step - accuracy: 0.9496 - loss: 0.1785"
     ]
    },
    {
     "name": "stderr",
     "output_type": "stream",
     "text": [
      "2024-12-09 02:37:14.697012: I tensorflow/core/framework/local_rendezvous.cc:424] Local rendezvous recv item cancelled. Key hash: 15181037279408896171\n",
      "2024-12-09 02:37:14.697102: I tensorflow/core/framework/local_rendezvous.cc:424] Local rendezvous recv item cancelled. Key hash: 15570649574560941888\n"
     ]
    },
    {
     "name": "stdout",
     "output_type": "stream",
     "text": [
      "\n",
      "Epoch 4: val_accuracy did not improve from 0.91660\n",
      "\n",
      "Epoch 4: ReduceLROnPlateau reducing learning rate to 4.999999873689376e-06.\n",
      "\u001b[1m322/322\u001b[0m \u001b[32m━━━━━━━━━━━━━━━━━━━━\u001b[0m\u001b[37m\u001b[0m \u001b[1m59s\u001b[0m 184ms/step - accuracy: 0.9496 - loss: 0.1785 - val_accuracy: 0.9145 - val_loss: 0.6337 - learning_rate: 1.0000e-05\n",
      "Epoch 5/5\n"
     ]
    },
    {
     "name": "stderr",
     "output_type": "stream",
     "text": [
      "2024-12-09 02:37:16.614317: I tensorflow/core/framework/local_rendezvous.cc:424] Local rendezvous recv item cancelled. Key hash: 15181037279408896171\n",
      "2024-12-09 02:37:16.614407: I tensorflow/core/framework/local_rendezvous.cc:424] Local rendezvous recv item cancelled. Key hash: 15570649574560941888\n"
     ]
    },
    {
     "name": "stdout",
     "output_type": "stream",
     "text": [
      "\u001b[1m322/322\u001b[0m \u001b[32m━━━━━━━━━━━━━━━━━━━━\u001b[0m\u001b[37m\u001b[0m \u001b[1m0s\u001b[0m 177ms/step - accuracy: 0.9547 - loss: 0.1595\n",
      "Epoch 5: val_accuracy did not improve from 0.91660\n",
      "\u001b[1m322/322\u001b[0m \u001b[32m━━━━━━━━━━━━━━━━━━━━\u001b[0m\u001b[37m\u001b[0m \u001b[1m59s\u001b[0m 184ms/step - accuracy: 0.9547 - loss: 0.1595 - val_accuracy: 0.9154 - val_loss: 0.7633 - learning_rate: 5.0000e-06\n",
      "Epoch 5: early stopping\n",
      "Restoring model weights from the end of the best epoch: 2.\n"
     ]
    },
    {
     "name": "stderr",
     "output_type": "stream",
     "text": [
      "2024-12-09 02:38:15.796207: I tensorflow/core/framework/local_rendezvous.cc:424] Local rendezvous recv item cancelled. Key hash: 15181037279408896171\n",
      "2024-12-09 02:38:15.796301: I tensorflow/core/framework/local_rendezvous.cc:424] Local rendezvous recv item cancelled. Key hash: 15570649574560941888\n"
     ]
    },
    {
     "name": "stdout",
     "output_type": "stream",
     "text": [
      "\u001b[1m153/153\u001b[0m \u001b[32m━━━━━━━━━━━━━━━━━━━━\u001b[0m\u001b[37m\u001b[0m \u001b[1m3s\u001b[0m 15ms/step\n",
      "Optimal Threshold: 0.19\n",
      "Confusion Matrix (Test Set C_to_P):\n",
      "[[2076   97]\n",
      " [ 132  129]]\n",
      "\n",
      "Precision: 0.5708\n",
      "Recall:    0.4943\n",
      "\n",
      "Classification Report:\n",
      "              precision    recall  f1-score   support\n",
      "\n",
      "   Uncracked       0.94      0.96      0.95      2173\n",
      "     Cracked       0.57      0.49      0.53       261\n",
      "\n",
      "    accuracy                           0.91      2434\n",
      "   macro avg       0.76      0.72      0.74      2434\n",
      "weighted avg       0.90      0.91      0.90      2434\n",
      "\n"
     ]
    },
    {
     "data": {
      "image/png": "[encoded data removed]",
      "text/plain": [
       "<Figure size 600x500 with 2 Axes>"
      ]
     },
     "metadata": {},
     "output_type": "display_data"
    },
    {
     "data": {
      "image/png": "[encoded data removed]",
      "text/plain": [
       "<Figure size 640x480 with 1 Axes>"
      ]
     },
     "metadata": {},
     "output_type": "display_data"
    }
   ],
   "source": [
    "# Loop over each training set\n",
    "for train_set in training_sets:\n",
    "    train_set_name = train_set['name']\n",
    "    train_gen = train_set['gen']\n",
    "    train_labels = train_set['labels']\n",
    "\n",
    "    # No need to compute class weights\n",
    "    # class_weights = get_class_weights(train_labels)\n",
    "\n",
    "    # Loop over each testing set\n",
    "    for test_set in testing_sets:\n",
    "        test_set_name = test_set['name']\n",
    "        test_gen = test_set['gen']\n",
    "        test_labels = test_set['labels']\n",
    "\n",
    "        set_name = f'{train_set_name}_to_{test_set_name}'\n",
    "\n",
    "        print(f'\\nTraining on set {train_set_name} and testing on set {test_set_name}')\n",
    "\n",
    "        # Call the train_and_evaluate function without class weights\n",
    "        train_and_evaluate(\n",
    "            train_gen=train_gen,\n",
    "            test_gen=test_gen,\n",
    "            train_labels=train_labels,\n",
    "            test_labels=test_labels,\n",
    "            set_name=set_name,\n",
    "            batch_size=16,  # Adjust batch size if necessary\n",
    "            alpha=1,     # Adjust alpha as needed\n",
    "            gamma=0.0       # Adjust gamma as needed\n",
    "        )\n",
    "\n"
   ]
  },
  {
   "cell_type": "code",
   "execution_count": null,
   "id": "1db73677-1f3d-43a2-b0bd-f57a6ba27659",
   "metadata": {},
   "outputs": [],
   "source": []
  }
 ],
 "metadata": {
  "kernelspec": {
   "display_name": "Python 3 (ipykernel)",
   "language": "python",
   "name": "python3"
  },
  "language_info": {
   "codemirror_mode": {
    "name": "ipython",
    "version": 3
   },
   "file_extension": ".py",
   "mimetype": "text/x-python",
   "name": "python",
   "nbconvert_exporter": "python",
   "pygments_lexer": "ipython3",
   "version": "3.11.4"
  }
 },
 "nbformat": 4,
 "nbformat_minor": 5
}
